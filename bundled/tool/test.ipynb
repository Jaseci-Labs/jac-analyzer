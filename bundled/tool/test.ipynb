{
 "cells": [
  {
   "cell_type": "code",
   "execution_count": 113,
   "metadata": {},
   "outputs": [],
   "source": [
    "# suppress logging\n",
    "import logging\n",
    "logging.getLogger('jaclang').setLevel(logging.CRITICAL)\n",
    "\n",
    "from jaclang.jac.workspace import Workspace\n",
    "import os\n",
    "\n",
    "jlws = Workspace(path='/Users/chandralegend/Desktop/Jaseci/jaclang-vscode/examples')"
   ]
  },
  {
   "cell_type": "code",
   "execution_count": 114,
   "metadata": {},
   "outputs": [
    {
     "name": "stdout",
     "output_type": "stream",
     "text": [
      "/Users/chandralegend/Desktop/Jaseci/jaclang-vscode/examples/circle_impl.jac \"\"\"Enum for shape types\"\"\"\n",
      "/Users/chandralegend/Desktop/Jaseci/jaclang-vscode/examples/guess_number.jac \"\"\"A Number Guessing Game\"\"\"\n",
      "/Users/chandralegend/Desktop/Jaseci/jaclang-vscode/examples/circle.jac \"\"\"\n",
      "This module demonstrates a simple circle class and a function to calculate\n",
      "the area of a circle in all of Jac's glory.\n",
      "\"\"\"\n"
     ]
    }
   ],
   "source": [
    "modules = jlws.modules\n",
    "for mod, mod_info in modules.items():\n",
    "    print(mod, mod_info.ir.doc.value)"
   ]
  },
  {
   "cell_type": "code",
   "execution_count": 115,
   "metadata": {},
   "outputs": [
    {
     "name": "stdout",
     "output_type": "stream",
     "text": [
      "/Users/chandralegend/Desktop/Jaseci/jaclang-vscode/examples/guess_number.jac\n"
     ]
    },
    {
     "data": {
      "text/plain": [
       "[<jaclang.jac.absyntree.Import at 0x1101548d0>,\n",
       " <jaclang.jac.absyntree.Import at 0x1102a9650>]"
      ]
     },
     "execution_count": 115,
     "metadata": {},
     "output_type": "execute_result"
    }
   ],
   "source": [
    "import jaclang.jac.absyntree as ast\n",
    "\n",
    "file_url = list(modules.keys())[1]\n",
    "print(file_url)\n",
    "jlws.get_dependencies(file_url)"
   ]
  },
  {
   "cell_type": "code",
   "execution_count": 116,
   "metadata": {},
   "outputs": [
    {
     "data": {
      "text/plain": [
       "'/Users/chandralegend/Desktop/Jaseci/jaclang-vscode/examples/guess_number.jac'"
      ]
     },
     "execution_count": 116,
     "metadata": {},
     "output_type": "execute_result"
    }
   ],
   "source": [
    "file_url"
   ]
  },
  {
   "cell_type": "code",
   "execution_count": 117,
   "metadata": {},
   "outputs": [],
   "source": [
    "module = jlws.modules[file_url]"
   ]
  },
  {
   "cell_type": "code",
   "execution_count": 118,
   "metadata": {},
   "outputs": [
    {
     "data": {
      "text/plain": [
       "[GuessGame <jaclang.jac.symtable.SymbolTable object at 0x1102fce10>:\n",
       "     start_game: Symbol(start_game, ability, public, None, [<jaclang.jac.absyntree.Ability object at 0x1102b5410>])\n",
       "     process_guess: Symbol(process_guess, ability, public, None, [<jaclang.jac.absyntree.Ability object at 0x1102b7150>])\n",
       "     correct_number: Symbol(correct_number, var, public, None, [<jaclang.jac.absyntree.HasVar object at 0x1102aa350>]),\n",
       " turn <jaclang.jac.symtable.SymbolTable object at 0x1102fec10>:\n",
       "     check: Symbol(check, ability, public, None, [<jaclang.jac.absyntree.Ability object at 0x1102bc850>]),\n",
       " (n)turn.(a)check <jaclang.jac.symtable.SymbolTable object at 0x1102ffbd0>:\n",
       "     guess: Symbol(guess, var, public, None, [<jaclang.jac.absyntree.Name object at 0x1102c1690>]),\n",
       " (w)GuessGame.(a)start_game <jaclang.jac.symtable.SymbolTable object at 0x110303c50>:\n",
       "     end: Symbol(end, var, public, None, [<jaclang.jac.absyntree.Name object at 0x1102cc510>]),\n",
       " (w)GuessGame.(a)process_guess <jaclang.jac.symtable.SymbolTable object at 0x110302f50>:\n",
       "     guess: Symbol(guess, var, public, None, [<jaclang.jac.absyntree.ParamVar object at 0x1102b6490>]),\n",
       " module_code <jaclang.jac.symtable.SymbolTable object at 0x11027a1d0>:]"
      ]
     },
     "execution_count": 118,
     "metadata": {},
     "output_type": "execute_result"
    }
   ],
   "source": [
    "module.ir.sym_tab.kid"
   ]
  },
  {
   "cell_type": "code",
   "execution_count": 132,
   "metadata": {},
   "outputs": [
    {
     "data": {
      "text/plain": [
       "False"
      ]
     },
     "execution_count": 132,
     "metadata": {},
     "output_type": "execute_result"
    }
   ],
   "source": [
    "module.ir.sym_tab.tab['RAD'].sym_type == \"var\""
   ]
  },
  {
   "cell_type": "code",
   "execution_count": 98,
   "metadata": {},
   "outputs": [],
   "source": [
    "from jaclang.jac.symtable import SymbolTable, Symbol as JCSymbol\n",
    "from jaclang.jac.absyntree import String, AstNode\n",
    "from lsprotocol.types import Location, Range, Position, SymbolInformation, DocumentSymbol, SymbolKind\n",
    "import os\n",
    "\n",
    "class Symbol:\n",
    "    def __init__(self, node: SymbolTable |AstNode , doc_uri: str, is_use: bool = False):\n",
    "        if isinstance(node, SymbolTable):\n",
    "            self.sym_tab = node\n",
    "        self.is_use = is_use\n",
    "        self.node = node.owner if isinstance(node, SymbolTable) else node\n",
    "        self.doc_uri = doc_uri\n",
    "        \n",
    "    @property\n",
    "    def sym_name(self):\n",
    "        return self.node.sym_name\n",
    "\n",
    "    @property \n",
    "    def ws_symbol(self):\n",
    "        return self.node.sym_link\n",
    "\n",
    "    @property\n",
    "    def sym_type(self):\n",
    "        return str(self.node.sym_type)\n",
    "\n",
    "    @property\n",
    "    def sym_doc(self):\n",
    "        return self.ws_symbol.decl.doc.value[3:-3] if hasattr(self.ws_symbol.decl, 'doc') and isinstance(self.ws_symbol.decl.doc, String) else \"\"\n",
    "    \n",
    "    @property\n",
    "    def defn_loc(self):\n",
    "        return Location(\n",
    "            uri=f\"file://{os.path.join(os.getcwd(), self.ws_symbol.decl.loc.mod_path)}\",\n",
    "            range=Range(\n",
    "                start= Position(\n",
    "                    line=self.ws_symbol.decl.sym_name_node.loc.first_line - 1,\n",
    "                    character=self.ws_symbol.decl.sym_name_node.loc.col_start - 1\n",
    "                ),\n",
    "                end= Position(\n",
    "                    line=self.ws_symbol.decl.sym_name_node.loc.last_line - 1,\n",
    "                    character=self.ws_symbol.decl.sym_name_node.loc.col_end - 1\n",
    "                )\n",
    "            )\n",
    "        )\n",
    "\n",
    "    @property\n",
    "    def sym_info(self):\n",
    "        return SymbolInformation(\n",
    "            name=self.sym_name,\n",
    "            kind=self._get_symbol_kind(self.sym_type),\n",
    "            location=Location(\n",
    "                uri=self.doc_uri,\n",
    "                range=Range(\n",
    "                    start = Position(\n",
    "                        line=self.node.sym_name_node.loc.first_line - 1,\n",
    "                        character=self.node.sym_name_node.loc.col_start - 1\n",
    "                    ),\n",
    "                    end = Position(\n",
    "                        line=self.node.sym_name_node.loc.last_line - 1,\n",
    "                        character=self.node.sym_name_node.loc.col_end - 1\n",
    "                    )\n",
    "                )\n",
    "            )\n",
    "        )\n",
    "\n",
    "    @property\n",
    "    def doc_sym(self):\n",
    "        return DocumentSymbol(\n",
    "            name=self.sym_name,\n",
    "            kind=self.sym_info.kind,\n",
    "            range=self.sym_info.location.range,\n",
    "            selection_range=self.sym_info.location.range,\n",
    "            detail=self.sym_doc,\n",
    "            children=self._get_children_doc_sym()\n",
    "        )\n",
    "\n",
    "    @property\n",
    "    def children(self):\n",
    "        children = []\n",
    "        if hasattr(self, \"sym_tab\"):\n",
    "            for kid_sym_tab in self.sym_tab.kid:\n",
    "                kid_symbol = Symbol(kid_sym_tab, self.doc_uri)\n",
    "                children.append(kid_symbol)\n",
    "        vars = (\n",
    "            self.node.get_all_sub_nodes(HasVar)\n",
    "            if isinstance(self.node, Architype)\n",
    "            else self.node.get_all_sub_nodes(ParamVar)\n",
    "            if isinstance(self.node, Ability)\n",
    "            else []\n",
    "        )\n",
    "        for var in vars:\n",
    "            var_symbol = Symbol(var, self.doc_uri)\n",
    "            children.append(var_symbol)\n",
    "        return children\n",
    "\n",
    "    def _get_children_doc_sym(self):\n",
    "        children = []\n",
    "        for kid_symbol in self.children:\n",
    "            try:\n",
    "                children.append(kid_symbol.doc_sym)\n",
    "            except Exception:\n",
    "                pass\n",
    "        return children\n",
    "\n",
    "    @staticmethod\n",
    "    def _get_symbol_kind(sym_type:str) -> SymbolKind:\n",
    "        sym_type_map = {\n",
    "            \"mod\": SymbolKind.Module,\n",
    "            \"mod_var\": SymbolKind.Variable,\n",
    "            \"var\": SymbolKind.Variable,\n",
    "            \"immutable\": SymbolKind.Variable,\n",
    "            \"ability\": SymbolKind.Function,\n",
    "            \"object\": SymbolKind.Class,\n",
    "            \"node\": SymbolKind.Class,\n",
    "            \"edge\": SymbolKind.Class,\n",
    "            \"walker\": SymbolKind.Class,\n",
    "            \"enum\": SymbolKind.Enum,\n",
    "            \"test\": SymbolKind.Function,\n",
    "            \"type\": SymbolKind.TypeParameter,\n",
    "            \"impl\": SymbolKind.Method,\n",
    "            \"field\": SymbolKind.Field,\n",
    "            \"method\": SymbolKind.Method,\n",
    "            \"constructor\": SymbolKind.Constructor,\n",
    "            \"enum_member\": SymbolKind.EnumMember,\n",
    "        }\n",
    "        return sym_type_map.get(sym_type, SymbolKind.Variable)"
   ]
  },
  {
   "cell_type": "code",
   "execution_count": 99,
   "metadata": {},
   "outputs": [],
   "source": [
    "def get_doc_symbols(url) -> list[DocumentSymbol]:\n",
    "    doc_symbols: list[DocumentSymbol] = []\n",
    "    module = jlws.modules[url]\n",
    "    \n",
    "    for sym_tab in module.ir.sym_tab.kid:\n",
    "        try:\n",
    "            doc_symbols.append(Symbol(sym_tab, f\"file://{url}\").doc_sym)\n",
    "        except:\n",
    "            pass\n",
    "    return doc_symbols"
   ]
  },
  {
   "cell_type": "code",
   "execution_count": 100,
   "metadata": {},
   "outputs": [],
   "source": [
    "doc_syms = get_doc_symbols(file_url)"
   ]
  },
  {
   "cell_type": "code",
   "execution_count": 101,
   "metadata": {},
   "outputs": [
    {
     "data": {
      "text/plain": [
       "'/Users/chandralegend/Desktop/Jaseci/jaclang-vscode/examples/guess_number.jac'"
      ]
     },
     "execution_count": 101,
     "metadata": {},
     "output_type": "execute_result"
    }
   ],
   "source": [
    "file_url"
   ]
  },
  {
   "cell_type": "code",
   "execution_count": 102,
   "metadata": {},
   "outputs": [
    {
     "data": {
      "text/plain": [
       "<jaclang.jac.absyntree.GlobalVars at 0x1101daa90>"
      ]
     },
     "execution_count": 102,
     "metadata": {},
     "output_type": "execute_result"
    }
   ],
   "source": [
    "module = jlws.modules[file_url]\n",
    "module.ir.sym_tab.owner.kid[5]"
   ]
  },
  {
   "cell_type": "code",
   "execution_count": 103,
   "metadata": {},
   "outputs": [
    {
     "data": {
      "text/plain": [
       "[]"
      ]
     },
     "execution_count": 103,
     "metadata": {},
     "output_type": "execute_result"
    }
   ],
   "source": [
    "doc_syms"
   ]
  },
  {
   "cell_type": "code",
   "execution_count": 38,
   "metadata": {},
   "outputs": [],
   "source": [
    "def pprint_doc_sym(doc_sym: DocumentSymbol, indent: int = 0):\n",
    "    print(\" \" * indent + doc_sym.name)\n",
    "    for child in doc_sym.children:\n",
    "        pprint_doc_sym(child, indent + 2)"
   ]
  },
  {
   "cell_type": "code",
   "execution_count": 43,
   "metadata": {},
   "outputs": [
    {
     "name": "stdout",
     "output_type": "stream",
     "text": [
      "(w)GuessGame.(a)start_game\n"
     ]
    }
   ],
   "source": [
    "pprint_doc_sym(doc_syms[3])"
   ]
  },
  {
   "cell_type": "code",
   "execution_count": 15,
   "metadata": {},
   "outputs": [
    {
     "data": {
      "text/plain": [
       "[<jaclang.jac.absyntree.EnumDef at 0x11725ebd0>,\n",
       " <jaclang.jac.absyntree.AbilityDef at 0x117262690>,\n",
       " <jaclang.jac.absyntree.AbilityDef at 0x117264e50>,\n",
       " <jaclang.jac.absyntree.AbilityDef at 0x117267e90>,\n",
       " <jaclang.jac.absyntree.AbilityDef at 0x11726edd0>,\n",
       " <jaclang.jac.absyntree.Enum at 0x1171bd0d0>,\n",
       " <jaclang.jac.absyntree.Ability at 0x1171f9410>,\n",
       " <jaclang.jac.absyntree.Ability at 0x1171fb790>,\n",
       " <jaclang.jac.absyntree.Architype at 0x117203b90>,\n",
       " <jaclang.jac.absyntree.Architype at 0x117203990>,\n",
       " <jaclang.jac.absyntree.Architype at 0x117172990>,\n",
       " <jaclang.jac.absyntree.Architype at 0x11720c1d0>,\n",
       " <jaclang.jac.absyntree.Architype at 0x117216090>,\n",
       " <jaclang.jac.absyntree.AbilityDef at 0x11721f2d0>,\n",
       " <jaclang.jac.absyntree.AbilityDef at 0x117225850>,\n",
       " <jaclang.jac.absyntree.AbilityDef at 0x11722b2d0>,\n",
       " <jaclang.jac.absyntree.Name at 0x117217590>,\n",
       " <jaclang.jac.absyntree.Name at 0x117217e50>,\n",
       " <jaclang.jac.absyntree.Name at 0x11721c9d0>,\n",
       " <jaclang.jac.absyntree.Ability at 0x11720fb10>,\n",
       " <jaclang.jac.absyntree.Ability at 0x1172151d0>,\n",
       " <jaclang.jac.absyntree.HasVar at 0x117175990>,\n",
       " <jaclang.jac.absyntree.Name at 0x117225bd0>,\n",
       " <jaclang.jac.absyntree.ParamVar at 0x117214750>,\n",
       " <jaclang.jac.absyntree.Ability at 0x117216a50>,\n",
       " <jaclang.jac.absyntree.Name at 0x11721f650>,\n",
       " <jaclang.jac.absyntree.Name at 0x11721f650>,\n",
       " <jaclang.jac.absyntree.Name at 0x117225bd0>,\n",
       " <jaclang.jac.absyntree.Name at 0x117226590>,\n",
       " <jaclang.jac.absyntree.Name at 0x1172271d0>,\n",
       " <jaclang.jac.absyntree.ParamVar at 0x117214750>]"
      ]
     },
     "execution_count": 15,
     "metadata": {},
     "output_type": "execute_result"
    }
   ],
   "source": [
    "jlws.get_definitions(file_url)"
   ]
  },
  {
   "cell_type": "code",
   "execution_count": 68,
   "metadata": {},
   "outputs": [],
   "source": [
    "class Apple:\n",
    "    def __init__(self, a, b):\n",
    "        self.a = a\n",
    "        self.b = b\n",
    "\n",
    "    def __init__(self, a):\n",
    "        self.a = a\n",
    "        self.b = 0"
   ]
  },
  {
   "cell_type": "code",
   "execution_count": 70,
   "metadata": {},
   "outputs": [
    {
     "data": {
      "text/plain": [
       "0"
      ]
     },
     "execution_count": 70,
     "metadata": {},
     "output_type": "execute_result"
    }
   ],
   "source": [
    "Apple(1).b"
   ]
  },
  {
   "cell_type": "code",
   "execution_count": 12,
   "metadata": {},
   "outputs": [
    {
     "name": "stdout",
     "output_type": "stream",
     "text": [
      "<jaclang.jac.absyntree.Architype object at 0x11720c1d0>\n",
      "<jaclang.jac.absyntree.Architype object at 0x117216090>\n",
      "<jaclang.jac.absyntree.AbilityDef object at 0x11721f2d0>\n",
      "<jaclang.jac.absyntree.AbilityDef object at 0x117225850>\n",
      "<jaclang.jac.absyntree.AbilityDef object at 0x11722b2d0>\n",
      "<jaclang.jac.absyntree.Name object at 0x117217590>\n",
      "<jaclang.jac.absyntree.Name object at 0x117217e50>\n",
      "<jaclang.jac.absyntree.Name object at 0x11721c9d0>\n",
      "<jaclang.jac.absyntree.Ability object at 0x11720fb10>\n",
      "<jaclang.jac.absyntree.Ability object at 0x1172151d0>\n",
      "<jaclang.jac.absyntree.HasVar object at 0x117175990>\n",
      "<jaclang.jac.absyntree.Name object at 0x117225bd0>\n",
      "<jaclang.jac.absyntree.ParamVar object at 0x117214750>\n",
      "<jaclang.jac.absyntree.Ability object at 0x117216a50>\n",
      "<jaclang.jac.absyntree.Name object at 0x11721f650>\n",
      "<jaclang.jac.absyntree.Name object at 0x11721f650>\n",
      "<jaclang.jac.absyntree.Name object at 0x117225bd0>\n",
      "<jaclang.jac.absyntree.Name object at 0x117226590>\n",
      "<jaclang.jac.absyntree.Name object at 0x1172271d0>\n",
      "<jaclang.jac.absyntree.ParamVar object at 0x117214750>\n",
      "<jaclang.jac.absyntree.Name object at 0x11721cf90>\n",
      "<jaclang.jac.absyntree.Name object at 0x11721de50>\n",
      "<jaclang.jac.absyntree.Name object at 0x11721e190>\n",
      "<jaclang.jac.absyntree.Name object at 0x11721eed0>\n",
      "<jaclang.jac.absyntree.ArchRef object at 0x117224ed0>\n",
      "<jaclang.jac.absyntree.ArchRef object at 0x11722ac50>\n",
      "<jaclang.jac.absyntree.ArchRef object at 0x11721e7d0>\n",
      "<jaclang.jac.absyntree.ArchRef object at 0x117175f90>\n",
      "<jaclang.jac.absyntree.Name object at 0x117221650>\n",
      "<jaclang.jac.absyntree.ArchRef object at 0x117224a50>\n",
      "<jaclang.jac.absyntree.Name object at 0x117227c90>\n",
      "<jaclang.jac.absyntree.ArchRef object at 0x11722a4d0>\n"
     ]
    }
   ],
   "source": [
    "symbols = get_doc_symbols(file_url)"
   ]
  },
  {
   "cell_type": "code",
   "execution_count": 9,
   "metadata": {},
   "outputs": [
    {
     "name": "stdout",
     "output_type": "stream",
     "text": [
      "<jaclang.jac.absyntree.Architype object at 0x11720c1d0>\n",
      "<jaclang.jac.absyntree.Architype object at 0x117216090>\n",
      "<jaclang.jac.absyntree.AbilityDef object at 0x11721f2d0>\n",
      "<jaclang.jac.absyntree.AbilityDef object at 0x117225850>\n",
      "<jaclang.jac.absyntree.AbilityDef object at 0x11722b2d0>\n",
      "<jaclang.jac.absyntree.Name object at 0x117217590>\n",
      "<jaclang.jac.absyntree.Name object at 0x117217e50>\n",
      "<jaclang.jac.absyntree.Name object at 0x11721c9d0>\n",
      "<jaclang.jac.absyntree.Ability object at 0x11720fb10>\n",
      "<jaclang.jac.absyntree.Ability object at 0x1172151d0>\n",
      "<jaclang.jac.absyntree.HasVar object at 0x117175990>\n",
      "<jaclang.jac.absyntree.Name object at 0x117225bd0>\n",
      "<jaclang.jac.absyntree.ParamVar object at 0x117214750>\n",
      "<jaclang.jac.absyntree.Ability object at 0x117216a50>\n",
      "<jaclang.jac.absyntree.Name object at 0x11721f650>\n",
      "<jaclang.jac.absyntree.Name object at 0x11721f650>\n",
      "<jaclang.jac.absyntree.Name object at 0x117225bd0>\n",
      "<jaclang.jac.absyntree.Name object at 0x117226590>\n",
      "<jaclang.jac.absyntree.Name object at 0x1172271d0>\n",
      "<jaclang.jac.absyntree.ParamVar object at 0x117214750>\n",
      "<jaclang.jac.absyntree.Name object at 0x11721cf90>\n",
      "<jaclang.jac.absyntree.Name object at 0x11721de50>\n",
      "<jaclang.jac.absyntree.Name object at 0x11721e190>\n",
      "<jaclang.jac.absyntree.Name object at 0x11721eed0>\n",
      "<jaclang.jac.absyntree.ArchRef object at 0x117224ed0>\n",
      "<jaclang.jac.absyntree.ArchRef object at 0x11722ac50>\n",
      "<jaclang.jac.absyntree.ArchRef object at 0x11721e7d0>\n",
      "<jaclang.jac.absyntree.ArchRef object at 0x117175f90>\n",
      "<jaclang.jac.absyntree.Name object at 0x117221650>\n",
      "<jaclang.jac.absyntree.ArchRef object at 0x117224a50>\n",
      "<jaclang.jac.absyntree.Name object at 0x117227c90>\n",
      "<jaclang.jac.absyntree.ArchRef object at 0x11722a4d0>\n"
     ]
    }
   ],
   "source": [
    "for s in symbols:\n",
    "    print(s.node)"
   ]
  },
  {
   "cell_type": "code",
   "execution_count": 8,
   "metadata": {},
   "outputs": [
    {
     "data": {
      "text/plain": [
       "[<jaclang.jac.absyntree.ParamVar at 0x112c09650>]"
      ]
     },
     "execution_count": 8,
     "metadata": {},
     "output_type": "execute_result"
    }
   ],
   "source": [
    "from common.symbols import Symbol\n",
    "\n",
    "Symbol(f\"file://{file_url}\", symbols[0].children[2]).children"
   ]
  },
  {
   "cell_type": "code",
   "execution_count": null,
   "metadata": {},
   "outputs": [],
   "source": []
  },
  {
   "cell_type": "code",
   "execution_count": 36,
   "metadata": {},
   "outputs": [
    {
     "ename": "AttributeError",
     "evalue": "'list' object has no attribute 'sym_link'",
     "output_type": "error",
     "traceback": [
      "\u001b[0;31m---------------------------------------------------------------------------\u001b[0m",
      "\u001b[0;31mAttributeError\u001b[0m                            Traceback (most recent call last)",
      "\u001b[1;32m/Users/chandralegend/Desktop/Jaseci/jaclang-vscode/bundled/tool/test.ipynb Cell 10\u001b[0m line \u001b[0;36m1\n\u001b[0;32m----> <a href='vscode-notebook-cell:/Users/chandralegend/Desktop/Jaseci/jaclang-vscode/bundled/tool/test.ipynb#X52sZmlsZQ%3D%3D?line=0'>1</a>\u001b[0m [x\u001b[39m.\u001b[39;49mvalue \u001b[39mfor\u001b[39;49;00m x \u001b[39min\u001b[39;49;00m jlws\u001b[39m.\u001b[39;49mget_definitions(file_url)[\u001b[39m15\u001b[39;49m]\u001b[39m.\u001b[39;49mbody\u001b[39m.\u001b[39;49mget_all_sub_nodes(ast\u001b[39m.\u001b[39;49mName)]\u001b[39m.\u001b[39;49msym_link\n",
      "\u001b[0;31mAttributeError\u001b[0m: 'list' object has no attribute 'sym_link'"
     ]
    }
   ],
   "source": [
    "[x.value for x in jlws.get_definitions(file_url)[15].body.get_all_sub_nodes(ast.Name)].sym_link"
   ]
  },
  {
   "cell_type": "code",
   "execution_count": 8,
   "metadata": {},
   "outputs": [],
   "source": [
    "for i in jlws.get_definitions(\"test.jac\"):\n",
    "    if hasattr(i, \"doc\") and isinstance(i.doc, ast.String):\n",
    "        doc_str = i.doc.value\n",
    "        doc_str = doc_str[3:-3]\n",
    "        print(doc_str)"
   ]
  },
  {
   "cell_type": "code",
   "execution_count": 9,
   "metadata": {},
   "outputs": [
    {
     "name": "stdout",
     "output_type": "stream",
     "text": [
      "/Users/chandralegend/Desktop/Jaseci/jaclang-vscode/examples/circle_impl.jac\n",
      "/Users/chandralegend/Desktop/Jaseci/jaclang-vscode/examples/guess_number.jac\n",
      "/Users/chandralegend/Desktop/Jaseci/jaclang-vscode/examples/circle.jac\n"
     ]
    }
   ],
   "source": [
    "for mod_path, mod_info in jlws.modules.items():\n",
    "    print(mod_path)"
   ]
  },
  {
   "cell_type": "code",
   "execution_count": 10,
   "metadata": {},
   "outputs": [
    {
     "data": {
      "text/plain": [
       "['/Users/chandralegend/Desktop/Jaseci/jaclang-vscode/examples/circle_impl.jac',\n",
       " '/Users/chandralegend/Desktop/Jaseci/jaclang-vscode/examples/guess_number.jac',\n",
       " '/Users/chandralegend/Desktop/Jaseci/jaclang-vscode/examples/circle.jac']"
      ]
     },
     "execution_count": 10,
     "metadata": {},
     "output_type": "execute_result"
    }
   ],
   "source": [
    "jlws.file_list()"
   ]
  },
  {
   "cell_type": "code",
   "execution_count": 11,
   "metadata": {},
   "outputs": [
    {
     "data": {
      "text/plain": [
       "[]"
      ]
     },
     "execution_count": 11,
     "metadata": {},
     "output_type": "execute_result"
    }
   ],
   "source": [
    "jlws.get_symbols('test.jac')"
   ]
  },
  {
   "cell_type": "code",
   "execution_count": 12,
   "metadata": {},
   "outputs": [
    {
     "ename": "IndexError",
     "evalue": "list index out of range",
     "output_type": "error",
     "traceback": [
      "\u001b[0;31m---------------------------------------------------------------------------\u001b[0m",
      "\u001b[0;31mIndexError\u001b[0m                                Traceback (most recent call last)",
      "\u001b[1;32m/Users/chandralegend/Desktop/Jaseci/jaclang-vscode/bundled/tool/test.ipynb Cell 24\u001b[0m line \u001b[0;36m1\n\u001b[0;32m----> <a href='vscode-notebook-cell:/Users/chandralegend/Desktop/Jaseci/jaclang-vscode/bundled/tool/test.ipynb#X32sZmlsZQ%3D%3D?line=0'>1</a>\u001b[0m jlws\u001b[39m.\u001b[39;49mget_symbols(\u001b[39m'\u001b[39;49m\u001b[39mtest.jac\u001b[39;49m\u001b[39m'\u001b[39;49m)[\u001b[39m1\u001b[39;49m]\n",
      "\u001b[0;31mIndexError\u001b[0m: list index out of range"
     ]
    }
   ],
   "source": [
    "jlws.get_symbols('test.jac')[1]"
   ]
  },
  {
   "cell_type": "code",
   "execution_count": 19,
   "metadata": {},
   "outputs": [
    {
     "name": "stdout",
     "output_type": "stream",
     "text": [
      "random\n",
      "module\n",
      "3:11 - 3:17\n",
      "circle_impl\n",
      "module\n",
      "4:13 - 4:24\n",
      "GuessGame\n",
      "type\n",
      "6:8 - 6:17\n",
      "turn\n",
      "type\n",
      "13:6 - 13:10\n",
      "(n)turn.(a)check\n",
      "impl\n",
      "22:1 - 22:25\n",
      "(w)GuessGame.(a)start_game\n",
      "impl\n",
      "34:1 - 34:37\n",
      "(w)GuessGame.(a)process_guess\n",
      "impl\n",
      "44:1 - 44:40\n",
      "start_game\n",
      "ability\n",
      "9:9 - 9:19\n",
      "process_guess\n",
      "ability\n",
      "10:9 - 10:22\n",
      "correct_number\n",
      "var\n",
      "7:9 - 7:23\n",
      "guess\n",
      "var\n",
      "10:23 - 10:28\n",
      "check\n",
      "ability\n",
      "14:9 - 14:14\n",
      "guess\n",
      "var\n",
      "10:23 - 10:28\n"
     ]
    }
   ],
   "source": [
    "for symbol in jlws.get_symbols('test.jac'):\n",
    "    print(symbol.sym_name)\n",
    "    print(symbol.sym_type)\n",
    "    print(symbol.decl.sym_name_node.loc)"
   ]
  },
  {
   "cell_type": "code",
   "execution_count": 20,
   "metadata": {},
   "outputs": [],
   "source": [
    "class Apple:\n",
    "    name: str\n",
    "\n",
    "x = Apple()"
   ]
  },
  {
   "cell_type": "code",
   "execution_count": 21,
   "metadata": {},
   "outputs": [],
   "source": [
    "x.address = \"123\""
   ]
  },
  {
   "cell_type": "code",
   "execution_count": 23,
   "metadata": {},
   "outputs": [
    {
     "data": {
      "text/plain": [
       "'123'"
      ]
     },
     "execution_count": 23,
     "metadata": {},
     "output_type": "execute_result"
    }
   ],
   "source": [
    "x.address"
   ]
  },
  {
   "cell_type": "code",
   "execution_count": 24,
   "metadata": {},
   "outputs": [],
   "source": [
    "y = {}\n",
    "y[x] = 1"
   ]
  },
  {
   "cell_type": "code",
   "execution_count": 26,
   "metadata": {},
   "outputs": [
    {
     "data": {
      "text/plain": [
       "dict_keys([<__main__.Apple object at 0x11627fe90>])"
      ]
     },
     "execution_count": 26,
     "metadata": {},
     "output_type": "execute_result"
    }
   ],
   "source": [
    "y.keys()"
   ]
  },
  {
   "cell_type": "code",
   "execution_count": 42,
   "metadata": {},
   "outputs": [],
   "source": [
    "import time\n",
    "async def wait_for():\n",
    "    # wait 20 seconds and print \"hello\" without async io\n",
    "    time.sleep(20)\n",
    "    print(\"hello\")\n",
    "\n",
    "def main():\n",
    "    wait_for()\n",
    "    print(\"world\")"
   ]
  },
  {
   "cell_type": "code",
   "execution_count": 43,
   "metadata": {},
   "outputs": [
    {
     "name": "stdout",
     "output_type": "stream",
     "text": [
      "world\n"
     ]
    },
    {
     "name": "stderr",
     "output_type": "stream",
     "text": [
      "/var/folders/b2/5v_f5db55cl2944tg8wh54w80000gn/T/ipykernel_54762/1230333363.py:8: RuntimeWarning: coroutine 'wait_for' was never awaited\n",
      "  wait_for()\n",
      "RuntimeWarning: Enable tracemalloc to get the object allocation traceback\n"
     ]
    },
    {
     "ename": "TypeError",
     "evalue": "object NoneType can't be used in 'await' expression",
     "output_type": "error",
     "traceback": [
      "\u001b[0;31m---------------------------------------------------------------------------\u001b[0m",
      "\u001b[0;31mTypeError\u001b[0m                                 Traceback (most recent call last)",
      "\u001b[1;32m/Users/chandralegend/Desktop/Jaseci/jaclang-vscode/bundled/tool/test.ipynb Cell 31\u001b[0m line \u001b[0;36m1\n\u001b[0;32m----> <a href='vscode-notebook-cell:/Users/chandralegend/Desktop/Jaseci/jaclang-vscode/bundled/tool/test.ipynb#X42sZmlsZQ%3D%3D?line=0'>1</a>\u001b[0m \u001b[39mawait\u001b[39;00m main()\n",
      "\u001b[0;31mTypeError\u001b[0m: object NoneType can't be used in 'await' expression"
     ]
    }
   ],
   "source": [
    "await main()"
   ]
  },
  {
   "cell_type": "code",
   "execution_count": 51,
   "metadata": {},
   "outputs": [
    {
     "data": {
      "text/plain": [
       "'walker'"
      ]
     },
     "execution_count": 51,
     "metadata": {},
     "output_type": "execute_result"
    }
   ],
   "source": [
    "\":walker:GuessGame:\".replace(\":\", \" \").split()[-2]"
   ]
  },
  {
   "cell_type": "code",
   "execution_count": 63,
   "metadata": {},
   "outputs": [
    {
     "name": "stdout",
     "output_type": "stream",
     "text": [
      "ARCHITYPE: Apple\n"
     ]
    }
   ],
   "source": [
    "import re\n",
    "\n",
    "string = \"Apple.\"\n",
    "pattern = r\"(\\w+).\"\n",
    "\n",
    "match = re.match(pattern, string)\n",
    "if match:\n",
    "    architype = match.group(1)\n",
    "\n",
    "    print(f\"ARCHITYPE: {architype}\")\n",
    "else:\n",
    "    print(\"Invalid string format\")"
   ]
  },
  {
   "cell_type": "code",
   "execution_count": null,
   "metadata": {},
   "outputs": [],
   "source": []
  }
 ],
 "metadata": {
  "kernelspec": {
   "display_name": "vscode-jaclang",
   "language": "python",
   "name": "python3"
  },
  "language_info": {
   "codemirror_mode": {
    "name": "ipython",
    "version": 3
   },
   "file_extension": ".py",
   "mimetype": "text/x-python",
   "name": "python",
   "nbconvert_exporter": "python",
   "pygments_lexer": "ipython3",
   "version": "3.11.5"
  }
 },
 "nbformat": 4,
 "nbformat_minor": 2
}
