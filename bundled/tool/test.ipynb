{
 "cells": [
  {
   "cell_type": "code",
   "execution_count": 7,
   "metadata": {},
   "outputs": [],
   "source": [
    "import unittest\n",
    "from unittest.mock import MagicMock\n",
    "\n",
    "from lsp_server import formatting\n",
    "import lsprotocol.types as lsp\n",
    "\n",
    "class TestFormattingIntegration(unittest.TestCase):\n",
    "    def test_formatting(self):\n",
    "        # Set up mock LanguageServer instance\n",
    "        ls_mock = MagicMock()\n",
    "\n",
    "        # Set up mock DocumentFormattingParams instance\n",
    "        class MockTextDocument:\n",
    "            def __init__(self, uri):\n",
    "                self.uri = uri\n",
    "        params_mock = MagicMock()\n",
    "        params_mock.text_document = MockTextDocument(\"file:///Users/chandralegend/Desktop/Jaseci/jaclang-vscode/bundled/tool/test.jac\")\n",
    "\n",
    "        # Call the function\n",
    "        result = formatting(ls_mock, params_mock)\n",
    "\n",
    "        # Assert that the result is a list of TextEdit objects\n",
    "        self.assertIsInstance(result, list)\n",
    "        for edit in result:\n",
    "            self.assertIsInstance(edit, lsp.TextEdit)\n",
    "\n",
    "        print(result[0].new_text)"
   ]
  },
  {
   "cell_type": "code",
   "execution_count": 8,
   "metadata": {},
   "outputs": [
    {
     "name": "stdout",
     "output_type": "stream",
     "text": [
      "\"\"\"\n",
      "This module demonstrates a simple circle class and a function to calculate\n",
      "the area of a circle in all of Jac's glory.\n",
      "\"\"\"\n",
      "\n",
      "import:py math;\n",
      "\n",
      "include:jac circle_impl;\n",
      "\n",
      "enum ShapeType;\n",
      "can calculate_area(radius: float) -> float;\n",
      "can main_run;\n",
      "\n",
      "\"\"\"Base class for a shape.\"\"\"\n",
      "object Shape {\n",
      "    has shape_type: ShapeType;\n",
      "    \n",
      "    can area-> float abstract;\n",
      "}\n",
      "\n",
      "\n",
      "\"\"\"Circle class inherits from Shape.\"\"\"\n",
      "object Circle:Shape {\n",
      "    has radius: float;\n",
      "    \n",
      "    can <init>;\n",
      "    can area-> float;\n",
      "}\n",
      "\n",
      "global RAD = 5, c = Circle(RAD);\n",
      "\n",
      "\"\"\"Here we run the main program.\"\"\"\n",
      "with entry {\n",
      "    main_run();\n",
      "}\n"
     ]
    }
   ],
   "source": [
    "TestFormattingIntegration().test_formatting()"
   ]
  },
  {
   "cell_type": "code",
   "execution_count": null,
   "metadata": {},
   "outputs": [],
   "source": [
    "\n",
    "# def validate(ls, params):\n",
    "#     ls.show_message_log(\"Validating jac file...\")\n",
    "\n",
    "#     text_doc = ls.workspace.get_document(params.text_document.uri)\n",
    "#     source = text_doc.source\n",
    "#     doc_path = params.text_document.uri.replace(\"file://\", \"\")\n",
    "#     diagnostics = _validate_jac(doc_path, source) if source else []\n",
    "#     ls.publish_diagnostics(text_doc.uri, diagnostics)"
   ]
  },
  {
   "cell_type": "code",
   "execution_count": 5,
   "metadata": {},
   "outputs": [],
   "source": [
    "import unittest\n",
    "from unittest.mock import MagicMock\n",
    "from lsp_utils import validate\n",
    "import lsprotocol.types as lsp\n",
    "\n",
    "class TestValidate(unittest.TestCase):\n",
    "    def test_validate(self):\n",
    "        # Set up mock LanguageServer instance\n",
    "        ls_mock = MagicMock()\n",
    "        class MockDocument:\n",
    "            def __init__(self, uri):\n",
    "                with open(uri.replace(\"file://\", \"\"), \"r\") as f:\n",
    "                    source = f.read()\n",
    "                self.source = source\n",
    "                self.uri = uri\n",
    "        class MockWorkspace:\n",
    "            def get_document(self, uri):\n",
    "                return MockDocument(uri)\n",
    "        ls_mock.workspace = MockWorkspace()\n",
    "\n",
    "        print(ls_mock.workspace)\n",
    "\n",
    "        # Set up mock Params instance\n",
    "        class MockTextDocument:\n",
    "            def __init__(self, uri):\n",
    "                self.uri = uri\n",
    "        params_mock = MagicMock()\n",
    "        params_mock.text_document = MockTextDocument(\"file:///Users/chandralegend/Desktop/Jaseci/jaclang-vscode/bundled/tool/test.jac\")\n",
    "\n",
    "        # Call the function\n",
    "        result = validate(ls_mock, params_mock)\n",
    "        \n",
    "        # Assert that the result is a list of Diagnostic objects\n",
    "        self.assertIsInstance(result, list)\n",
    "        for diag in result:\n",
    "            self.assertIsInstance(diag, lsp.Diagnostic)"
   ]
  },
  {
   "cell_type": "code",
   "execution_count": 6,
   "metadata": {},
   "outputs": [
    {
     "name": "stderr",
     "output_type": "stream",
     "text": [
      "ERROR - test.jac, line 6: Could not find module /Users/chandralegend/Desktop/Jaseci/jaclang-vscode/bundled/tool/circle_impl.jac\n",
      "ERROR - test.jac, line 6: Module /Users/chandralegend/Desktop/Jaseci/jaclang-vscode/bundled/tool/circle_impl.jac is not a valid Jac module.\n"
     ]
    },
    {
     "name": "stderr",
     "output_type": "stream",
     "text": [
      "ERROR - test.jac, line 8: Module circle_impl not found to include *, or ICE occurred!\n"
     ]
    },
    {
     "name": "stdout",
     "output_type": "stream",
     "text": [
      "<__main__.TestValidate.test_validate.<locals>.MockWorkspace object at 0x1164f5990>\n"
     ]
    }
   ],
   "source": [
    "TestValidate().test_validate()"
   ]
  },
  {
   "cell_type": "code",
   "execution_count": null,
   "metadata": {},
   "outputs": [],
   "source": []
  }
 ],
 "metadata": {
  "kernelspec": {
   "display_name": "vscode-jaclang",
   "language": "python",
   "name": "python3"
  },
  "language_info": {
   "codemirror_mode": {
    "name": "ipython",
    "version": 3
   },
   "file_extension": ".py",
   "mimetype": "text/x-python",
   "name": "python",
   "nbconvert_exporter": "python",
   "pygments_lexer": "ipython3",
   "version": "3.11.5"
  }
 },
 "nbformat": 4,
 "nbformat_minor": 2
}
