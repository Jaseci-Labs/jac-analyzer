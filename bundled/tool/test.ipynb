{
 "cells": [
  {
   "cell_type": "code",
   "execution_count": 7,
   "metadata": {},
   "outputs": [],
   "source": [
    "import unittest\n",
    "from unittest.mock import MagicMock\n",
    "\n",
    "from lsp_server import formatting\n",
    "import lsprotocol.types as lsp\n",
    "\n",
    "class TestFormattingIntegration(unittest.TestCase):\n",
    "    def test_formatting(self):\n",
    "        # Set up mock LanguageServer instance\n",
    "        ls_mock = MagicMock()\n",
    "\n",
    "        # Set up mock DocumentFormattingParams instance\n",
    "        class MockTextDocument:\n",
    "            def __init__(self, uri):\n",
    "                self.uri = uri\n",
    "        params_mock = MagicMock()\n",
    "        params_mock.text_document = MockTextDocument(\"file:///Users/chandralegend/Desktop/Jaseci/jaclang-vscode/bundled/tool/test.jac\")\n",
    "\n",
    "        # Call the function\n",
    "        result = formatting(ls_mock, params_mock)\n",
    "\n",
    "        # Assert that the result is a list of TextEdit objects\n",
    "        self.assertIsInstance(result, list)\n",
    "        for edit in result:\n",
    "            self.assertIsInstance(edit, lsp.TextEdit)\n",
    "\n",
    "        print(result[0].new_text)"
   ]
  },
  {
   "cell_type": "code",
   "execution_count": 8,
   "metadata": {},
   "outputs": [
    {
     "name": "stdout",
     "output_type": "stream",
     "text": [
      "\"\"\"\n",
      "This module demonstrates a simple circle class and a function to calculate\n",
      "the area of a circle in all of Jac's glory.\n",
      "\"\"\"\n",
      "\n",
      "import:py math;\n",
      "\n",
      "include:jac circle_impl;\n",
      "\n",
      "enum ShapeType;\n",
      "can calculate_area(radius: float) -> float;\n",
      "can main_run;\n",
      "\n",
      "\"\"\"Base class for a shape.\"\"\"\n",
      "object Shape {\n",
      "    has shape_type: ShapeType;\n",
      "    \n",
      "    can area-> float abstract;\n",
      "}\n",
      "\n",
      "\n",
      "\"\"\"Circle class inherits from Shape.\"\"\"\n",
      "object Circle:Shape {\n",
      "    has radius: float;\n",
      "    \n",
      "    can <init>;\n",
      "    can area-> float;\n",
      "}\n",
      "\n",
      "global RAD = 5, c = Circle(RAD);\n",
      "\n",
      "\"\"\"Here we run the main program.\"\"\"\n",
      "with entry {\n",
      "    main_run();\n",
      "}\n"
     ]
    }
   ],
   "source": [
    "TestFormattingIntegration().test_formatting()"
   ]
  },
  {
   "cell_type": "code",
   "execution_count": null,
   "metadata": {},
   "outputs": [],
   "source": [
    "\n",
    "# def validate(ls, params):\n",
    "#     ls.show_message_log(\"Validating jac file...\")\n",
    "\n",
    "#     text_doc = ls.workspace.get_document(params.text_document.uri)\n",
    "#     source = text_doc.source\n",
    "#     doc_path = params.text_document.uri.replace(\"file://\", \"\")\n",
    "#     diagnostics = _validate_jac(doc_path, source) if source else []\n",
    "#     ls.publish_diagnostics(text_doc.uri, diagnostics)"
   ]
  },
  {
   "cell_type": "code",
   "execution_count": 5,
   "metadata": {},
   "outputs": [],
   "source": [
    "import unittest\n",
    "from unittest.mock import MagicMock\n",
    "from lsp_utils import validate\n",
    "import lsprotocol.types as lsp\n",
    "\n",
    "class TestValidate(unittest.TestCase):\n",
    "    def test_validate(self):\n",
    "        # Set up mock LanguageServer instance\n",
    "        ls_mock = MagicMock()\n",
    "        class MockDocument:\n",
    "            def __init__(self, uri):\n",
    "                with open(uri.replace(\"file://\", \"\"), \"r\") as f:\n",
    "                    source = f.read()\n",
    "                self.source = source\n",
    "                self.uri = uri\n",
    "        class MockWorkspace:\n",
    "            def get_document(self, uri):\n",
    "                return MockDocument(uri)\n",
    "        ls_mock.workspace = MockWorkspace()\n",
    "\n",
    "        print(ls_mock.workspace)\n",
    "\n",
    "        # Set up mock Params instance\n",
    "        class MockTextDocument:\n",
    "            def __init__(self, uri):\n",
    "                self.uri = uri\n",
    "        params_mock = MagicMock()\n",
    "        params_mock.text_document = MockTextDocument(\"file:///Users/chandralegend/Desktop/Jaseci/jaclang-vscode/bundled/tool/test.jac\")\n",
    "\n",
    "        # Call the function\n",
    "        result = validate(ls_mock, params_mock)\n",
    "        \n",
    "        # Assert that the result is a list of Diagnostic objects\n",
    "        self.assertIsInstance(result, list)\n",
    "        for diag in result:\n",
    "            self.assertIsInstance(diag, lsp.Diagnostic)"
   ]
  },
  {
   "cell_type": "code",
   "execution_count": 6,
   "metadata": {},
   "outputs": [
    {
     "name": "stderr",
     "output_type": "stream",
     "text": [
      "ERROR - test.jac, line 6: Could not find module /Users/chandralegend/Desktop/Jaseci/jaclang-vscode/bundled/tool/circle_impl.jac\n",
      "ERROR - test.jac, line 6: Module /Users/chandralegend/Desktop/Jaseci/jaclang-vscode/bundled/tool/circle_impl.jac is not a valid Jac module.\n"
     ]
    },
    {
     "name": "stderr",
     "output_type": "stream",
     "text": [
      "ERROR - test.jac, line 8: Module circle_impl not found to include *, or ICE occurred!\n"
     ]
    },
    {
     "name": "stdout",
     "output_type": "stream",
     "text": [
      "<__main__.TestValidate.test_validate.<locals>.MockWorkspace object at 0x1164f5990>\n"
     ]
    }
   ],
   "source": [
    "TestValidate().test_validate()"
   ]
  },
  {
   "cell_type": "code",
   "execution_count": 1,
   "metadata": {},
   "outputs": [],
   "source": [
    "\n",
    "from lsp_utils import _validate_jac, validate, jac_to_errors"
   ]
  },
  {
   "cell_type": "code",
   "execution_count": 3,
   "metadata": {},
   "outputs": [
    {
     "name": "stderr",
     "output_type": "stream",
     "text": [
      "ERROR - test.jac, line 8, col 1: Could not find module circle_impl.jac\n",
      "ERROR - test.jac, line 8, col 1: Module circle_impl.jac is not a valid Jac module.\n",
      "ERROR - test.jac, line 8, col 1: Module circle_impl not found to include *, or ICE occurred!\n",
      "WARNING - test.jac, line 16, col 1: No implementation for ability calculate_area\n",
      "WARNING - test.jac, line 17, col 1: No implementation for ability main_run\n",
      "WARNING - test.jac, line 32, col 5: No implementation for ability area\n"
     ]
    },
    {
     "name": "stdout",
     "output_type": "stream",
     "text": [
      "[Errno 2] No such file or directory: 'circle_impl.jac'\n"
     ]
    }
   ],
   "source": [
    "with open(\"test.jac\", \"r\") as f:\n",
    "    source = f.read()\n",
    "jac_to_errors(\"test.jac\", source)"
   ]
  },
  {
   "cell_type": "code",
   "execution_count": 13,
   "metadata": {},
   "outputs": [
    {
     "data": {
      "text/plain": [
       "'No implementation for ability area'"
      ]
     },
     "execution_count": 13,
     "metadata": {},
     "output_type": "execute_result"
    }
   ],
   "source": [
    "prse.warnings_had[2].msg"
   ]
  },
  {
   "cell_type": "code",
   "execution_count": 1,
   "metadata": {},
   "outputs": [
    {
     "data": {
      "text/plain": [
       "'/Users/chandralegend/Desktop/Jaseci/jaclang-vscode/bundled/tool'"
      ]
     },
     "execution_count": 1,
     "metadata": {},
     "output_type": "execute_result"
    }
   ],
   "source": [
    "import os\n",
    "\n",
    "os.getcwd()"
   ]
  },
  {
   "cell_type": "code",
   "execution_count": 2,
   "metadata": {},
   "outputs": [],
   "source": [
    "from common.constants import SERVER_CWD"
   ]
  },
  {
   "cell_type": "code",
   "execution_count": 3,
   "metadata": {},
   "outputs": [
    {
     "data": {
      "text/plain": [
       "'/Users/chandralegend/Desktop/Jaseci/jaclang-vscode/bundled/tool'"
      ]
     },
     "execution_count": 3,
     "metadata": {},
     "output_type": "execute_result"
    }
   ],
   "source": [
    "SERVER_CWD"
   ]
  },
  {
   "cell_type": "code",
   "execution_count": 5,
   "metadata": {},
   "outputs": [
    {
     "name": "stdout",
     "output_type": "stream",
     "text": [
      "{'node': 'Ability', 'kid': [{'node': 'Token', 'kid': [], 'line': 31, 'col': 5, 'name': 'KW_CAN', 'value': 'can'}, {'node': 'SpecialVarRef', 'kid': [{'node': 'Token', 'kid': [], 'line': 31, 'col': 9, 'name': 'INIT_OP', 'value': '<init>'}], 'line': 31, 'col': 9}, {'node': 'FuncSignature', 'kid': [{'node': 'EmptyToken', 'kid': [], 'line': 0, 'col': 0, 'name': 'EmptyToken', 'value': ''}], 'line': 0, 'col': 0}, {'node': 'Token', 'kid': [], 'line': 31, 'col': 15, 'name': 'SEMI', 'value': ';'}], 'line': 31, 'col': 5} 'SpecialVarRef' object has no attribute 'value'\n"
     ]
    }
   ],
   "source": [
    "from common.symbols import jac_file_to_pass, ArchitypePass\n",
    "\n",
    "prse_out = jac_file_to_pass(file_path=\"test.jac\", target=ArchitypePass, schedule=[ArchitypePass])"
   ]
  },
  {
   "cell_type": "code",
   "execution_count": 6,
   "metadata": {},
   "outputs": [
    {
     "data": {
      "text/plain": [
       "{'walker': [],\n",
       " 'node': [],\n",
       " 'edge': [],\n",
       " 'graph': [],\n",
       " 'object': [{'name': 'Shape',\n",
       "   'line': 20,\n",
       "   'col_start': 8,\n",
       "   'col_end': 13,\n",
       "   'vars': [{'type': 'has_var',\n",
       "     'name': 'shape_type',\n",
       "     'line': 21,\n",
       "     'col_start': 9,\n",
       "     'col_end': 30},\n",
       "    {'type': 'ability',\n",
       "     'name': 'area',\n",
       "     'line': 23,\n",
       "     'col_start': 9,\n",
       "     'col_end': 13}]},\n",
       "  {'name': 'Circle',\n",
       "   'line': 28,\n",
       "   'col_start': 8,\n",
       "   'col_end': 14,\n",
       "   'vars': [{'type': 'has_var',\n",
       "     'name': 'radius',\n",
       "     'line': 29,\n",
       "     'col_start': 9,\n",
       "     'col_end': 22},\n",
       "    {'type': 'ability',\n",
       "     'name': 'area',\n",
       "     'line': 32,\n",
       "     'col_start': 9,\n",
       "     'col_end': 13}]},\n",
       "  {'name': 'Shape',\n",
       "   'line': 20,\n",
       "   'col_start': 8,\n",
       "   'col_end': 13,\n",
       "   'vars': [{'type': 'has_var',\n",
       "     'name': 'shape_type',\n",
       "     'line': 21,\n",
       "     'col_start': 9,\n",
       "     'col_end': 30},\n",
       "    {'type': 'ability',\n",
       "     'name': 'area',\n",
       "     'line': 23,\n",
       "     'col_start': 9,\n",
       "     'col_end': 13}]},\n",
       "  {'name': 'Circle',\n",
       "   'line': 28,\n",
       "   'col_start': 8,\n",
       "   'col_end': 14,\n",
       "   'vars': [{'type': 'has_var',\n",
       "     'name': 'radius',\n",
       "     'line': 29,\n",
       "     'col_start': 9,\n",
       "     'col_end': 22},\n",
       "    {'type': 'ability',\n",
       "     'name': 'area',\n",
       "     'line': 32,\n",
       "     'col_start': 9,\n",
       "     'col_end': 13}]}]}"
      ]
     },
     "execution_count": 6,
     "metadata": {},
     "output_type": "execute_result"
    }
   ],
   "source": [
    "prse_out.output"
   ]
  },
  {
   "cell_type": "code",
   "execution_count": 1,
   "metadata": {},
   "outputs": [
    {
     "name": "stderr",
     "output_type": "stream",
     "text": [
      "ERROR - /Users/chandralegend/Desktop/Jaseci/jaclang-vscode/examples/circle_impl.jac, line 3, col 1: Unable to match implementation (e)ShapeType to a declaration.\n",
      "ERROR - /Users/chandralegend/Desktop/Jaseci/jaclang-vscode/examples/circle_impl.jac, line 8, col 1: Unable to match implementation (a)calculate_area to a declaration.\n",
      "ERROR - /Users/chandralegend/Desktop/Jaseci/jaclang-vscode/examples/circle_impl.jac, line 14, col 1: Unable to match implementation (o)Circle.(a)__init__ to a declaration.\n",
      "ERROR - /Users/chandralegend/Desktop/Jaseci/jaclang-vscode/examples/circle_impl.jac, line 19, col 1: Unable to match implementation (o)Circle.(a)area to a declaration.\n",
      "ERROR - /Users/chandralegend/Desktop/Jaseci/jaclang-vscode/examples/circle_impl.jac, line 25, col 1: Unable to match implementation (a)main_run to a declaration.\n",
      "WARNING - /Users/chandralegend/Desktop/Jaseci/jaclang-vscode/examples/circle_impl.jac, line 14, col 24: __init__ used before being defined.\n",
      "WARNING - /Users/chandralegend/Desktop/Jaseci/jaclang-vscode/examples/circle_impl.jac, line 21, col 12: math used before being defined.\n",
      "WARNING - /Users/chandralegend/Desktop/Jaseci/jaclang-vscode/examples/circle_impl.jac, line 27, col 57: RAD used before being defined.\n",
      "WARNING - /Users/chandralegend/Desktop/Jaseci/jaclang-vscode/examples/circle_impl.jac, line 21, col 22: self used before being defined.\n",
      "WARNING - /Users/chandralegend/Desktop/Jaseci/jaclang-vscode/examples/circle_impl.jac, line 21, col 36: self used before being defined.\n",
      "WARNING - /Users/chandralegend/Desktop/Jaseci/jaclang-vscode/examples/circle_impl.jac, line 27, col 37: value used before being defined.\n",
      "WARNING - /Users/chandralegend/Desktop/Jaseci/jaclang-vscode/examples/circle_impl.jac, line 20, col 1: Circle used before being defined.\n",
      "WARNING - /Users/chandralegend/Desktop/Jaseci/jaclang-vscode/examples/circle_impl.jac, line 26, col 80: RAD used before being defined.\n",
      "WARNING - /Users/chandralegend/Desktop/Jaseci/jaclang-vscode/examples/circle_impl.jac, line 10, col 17: pi used before being defined.\n",
      "WARNING - /Users/chandralegend/Desktop/Jaseci/jaclang-vscode/examples/circle_impl.jac, line 20, col 9: Circle used before being defined.\n",
      "WARNING - /Users/chandralegend/Desktop/Jaseci/jaclang-vscode/examples/circle_impl.jac, line 27, col 24: c used before being defined.\n",
      "WARNING - /Users/chandralegend/Desktop/Jaseci/jaclang-vscode/examples/circle_impl.jac, line 15, col 20: ShapeType used before being defined.\n",
      "WARNING - /Users/chandralegend/Desktop/Jaseci/jaclang-vscode/examples/circle_impl.jac, line 26, col 5: print used before being defined.\n",
      "WARNING - /Users/chandralegend/Desktop/Jaseci/jaclang-vscode/examples/circle_impl.jac, line 27, col 78: area used before being defined.\n",
      "WARNING - /Users/chandralegend/Desktop/Jaseci/jaclang-vscode/examples/circle_impl.jac, line 21, col 17: pi used before being defined.\n",
      "WARNING - /Users/chandralegend/Desktop/Jaseci/jaclang-vscode/examples/circle_impl.jac, line 21, col 27: radius used before being defined.\n",
      "WARNING - /Users/chandralegend/Desktop/Jaseci/jaclang-vscode/examples/circle_impl.jac, line 21, col 41: radius used before being defined.\n",
      "WARNING - /Users/chandralegend/Desktop/Jaseci/jaclang-vscode/examples/circle_impl.jac, line 26, col 65: calculate_area used before being defined.\n",
      "WARNING - /Users/chandralegend/Desktop/Jaseci/jaclang-vscode/examples/circle_impl.jac, line 14, col 1: Circle used before being defined.\n",
      "WARNING - /Users/chandralegend/Desktop/Jaseci/jaclang-vscode/examples/circle_impl.jac, line 26, col 43: RAD used before being defined.\n",
      "WARNING - /Users/chandralegend/Desktop/Jaseci/jaclang-vscode/examples/circle_impl.jac, line 27, col 76: c used before being defined.\n",
      "WARNING - /Users/chandralegend/Desktop/Jaseci/jaclang-vscode/examples/circle_impl.jac, line 14, col 9: Circle used before being defined.\n",
      "WARNING - /Users/chandralegend/Desktop/Jaseci/jaclang-vscode/examples/circle_impl.jac, line 3, col 7: ShapeType used before being defined.\n",
      "WARNING - /Users/chandralegend/Desktop/Jaseci/jaclang-vscode/examples/circle_impl.jac, line 3, col 1: ShapeType used before being defined.\n",
      "WARNING - /Users/chandralegend/Desktop/Jaseci/jaclang-vscode/examples/circle_impl.jac, line 25, col 10: main_run used before being defined.\n",
      "WARNING - /Users/chandralegend/Desktop/Jaseci/jaclang-vscode/examples/circle_impl.jac, line 27, col 5: print used before being defined.\n",
      "WARNING - /Users/chandralegend/Desktop/Jaseci/jaclang-vscode/examples/circle_impl.jac, line 27, col 26: shape_type used before being defined.\n",
      "WARNING - /Users/chandralegend/Desktop/Jaseci/jaclang-vscode/examples/circle_impl.jac, line 15, col 30: CIRCLE used before being defined.\n",
      "WARNING - /Users/chandralegend/Desktop/Jaseci/jaclang-vscode/examples/circle_impl.jac, line 10, col 12: math used before being defined.\n",
      "WARNING - /Users/chandralegend/Desktop/Jaseci/jaclang-vscode/examples/circle_impl.jac, line 20, col 15: area used before being defined.\n",
      "WARNING - /Users/chandralegend/Desktop/Jaseci/jaclang-vscode/examples/circle_impl.jac, line 25, col 1: main_run used before being defined.\n",
      "WARNING - /Users/chandralegend/Desktop/Jaseci/jaclang-vscode/examples/circle_impl.jac, line 20, col 24: area used before being defined.\n",
      "WARNING - /Users/chandralegend/Desktop/Jaseci/jaclang-vscode/examples/circle_impl.jac, line 9, col 1: calculate_area used before being defined.\n",
      "WARNING - /Users/chandralegend/Desktop/Jaseci/jaclang-vscode/examples/circle_impl.jac, line 9, col 10: calculate_area used before being defined.\n",
      "WARNING - /Users/chandralegend/Desktop/Jaseci/jaclang-vscode/examples/circle_impl.jac, line 14, col 15: __init__ used before being defined.\n"
     ]
    },
    {
     "name": "stdout",
     "output_type": "stream",
     "text": [
      "True\n"
     ]
    },
    {
     "name": "stderr",
     "output_type": "stream",
     "text": [
      "WARNING - /Users/chandralegend/Desktop/Jaseci/jaclang-vscode/examples/circle.jac, line 9, col 20: Name used for func param 'radius' already declared at /Users/chandralegend/Desktop/Jaseci/jaclang-vscode/examples/circle_impl.jac, line 9\n",
      "WARNING - /Users/chandralegend/Desktop/Jaseci/jaclang-vscode/examples/guess_number.jac, line 47, col 42: Name used for func param 'guess' already declared at /Users/chandralegend/Desktop/Jaseci/jaclang-vscode/examples/guess_number.jac, line 11\n",
      "WARNING - /Users/chandralegend/Desktop/Jaseci/jaclang-vscode/examples/guess_number.jac, line 47, col 42: Name used for func param 'guess' already declared at /Users/chandralegend/Desktop/Jaseci/jaclang-vscode/examples/guess_number.jac, line 11\n",
      "WARNING - /Users/chandralegend/Desktop/Jaseci/jaclang-vscode/examples/circle_impl.jac, line 21, col 22: self used before being defined.\n",
      "WARNING - /Users/chandralegend/Desktop/Jaseci/jaclang-vscode/examples/circle.jac, line 14, col 21: ShapeType used before being defined.\n",
      "WARNING - /Users/chandralegend/Desktop/Jaseci/jaclang-vscode/examples/circle_impl.jac, line 27, col 78: area used before being defined.\n",
      "WARNING - /Users/chandralegend/Desktop/Jaseci/jaclang-vscode/examples/guess_number.jac, line 4, col 9: jac used before being defined.\n",
      "WARNING - /Users/chandralegend/Desktop/Jaseci/jaclang-vscode/examples/circle_impl.jac, line 3, col 7: ShapeType used before being defined.\n",
      "WARNING - /Users/chandralegend/Desktop/Jaseci/jaclang-vscode/examples/circle_impl.jac, line 10, col 12: math used before being defined.\n",
      "WARNING - /Users/chandralegend/Desktop/Jaseci/jaclang-vscode/examples/circle_impl.jac, line 26, col 5: print used before being defined.\n",
      "WARNING - /Users/chandralegend/Desktop/Jaseci/jaclang-vscode/examples/circle_impl.jac, line 26, col 43: RAD used before being defined.\n",
      "WARNING - /Users/chandralegend/Desktop/Jaseci/jaclang-vscode/examples/circle_impl.jac, line 21, col 27: radius used before being defined.\n",
      "WARNING - /Users/chandralegend/Desktop/Jaseci/jaclang-vscode/examples/guess_number.jac, line 59, col 8: GuessGame used before being defined.\n",
      "WARNING - /Users/chandralegend/Desktop/Jaseci/jaclang-vscode/examples/guess_number.jac, line 4, col 13: circle used before being defined.\n",
      "WARNING - /Users/chandralegend/Desktop/Jaseci/jaclang-vscode/examples/circle_impl.jac, line 10, col 17: pi used before being defined.\n",
      "WARNING - /Users/chandralegend/Desktop/Jaseci/jaclang-vscode/examples/circle.jac, line 6, col 13: circle_impl used before being defined.\n",
      "WARNING - /Users/chandralegend/Desktop/Jaseci/jaclang-vscode/examples/circle_impl.jac, line 25, col 1: main_run used before being defined.\n",
      "WARNING - /Users/chandralegend/Desktop/Jaseci/jaclang-vscode/examples/guess_number.jac, line 28, col 53: input used before being defined.\n",
      "WARNING - /Users/chandralegend/Desktop/Jaseci/jaclang-vscode/examples/circle_impl.jac, line 14, col 1: Circle used before being defined.\n",
      "WARNING - /Users/chandralegend/Desktop/Jaseci/jaclang-vscode/examples/guess_number.jac, line 42, col 9: end used before being defined.\n",
      "WARNING - /Users/chandralegend/Desktop/Jaseci/jaclang-vscode/examples/circle_impl.jac, line 14, col 9: Circle used before being defined.\n",
      "WARNING - /Users/chandralegend/Desktop/Jaseci/jaclang-vscode/examples/guess_number.jac, line 48, col 8: guess used before being defined.\n",
      "WARNING - /Users/chandralegend/Desktop/Jaseci/jaclang-vscode/examples/circle_impl.jac, line 21, col 36: self used before being defined.\n",
      "WARNING - /Users/chandralegend/Desktop/Jaseci/jaclang-vscode/examples/circle_impl.jac, line 27, col 24: c used before being defined.\n",
      "WARNING - /Users/chandralegend/Desktop/Jaseci/jaclang-vscode/examples/guess_number.jac, line 53, col 54: print used before being defined.\n",
      "WARNING - /Users/chandralegend/Desktop/Jaseci/jaclang-vscode/examples/circle_impl.jac, line 26, col 65: calculate_area used before being defined.\n",
      "WARNING - /Users/chandralegend/Desktop/Jaseci/jaclang-vscode/examples/guess_number.jac, line 47, col 42: guess used before being defined.\n",
      "WARNING - /Users/chandralegend/Desktop/Jaseci/jaclang-vscode/examples/guess_number.jac, line 19, col 28: CIRCLE used before being defined.\n",
      "WARNING - /Users/chandralegend/Desktop/Jaseci/jaclang-vscode/examples/circle_impl.jac, line 21, col 41: radius used before being defined.\n",
      "WARNING - /Users/chandralegend/Desktop/Jaseci/jaclang-vscode/examples/guess_number.jac, line 47, col 42: guess used before being defined.\n",
      "WARNING - /Users/chandralegend/Desktop/Jaseci/jaclang-vscode/examples/circle_impl.jac, line 27, col 26: shape_type used before being defined.\n",
      "WARNING - /Users/chandralegend/Desktop/Jaseci/jaclang-vscode/examples/guess_number.jac, line 42, col 17: end used before being defined.\n",
      "WARNING - /Users/chandralegend/Desktop/Jaseci/jaclang-vscode/examples/guess_number.jac, line 50, col 27: correct_number used before being defined.\n",
      "WARNING - /Users/chandralegend/Desktop/Jaseci/jaclang-vscode/examples/circle_impl.jac, line 27, col 5: print used before being defined.\n",
      "WARNING - /Users/chandralegend/Desktop/Jaseci/jaclang-vscode/examples/circle_impl.jac, line 3, col 1: ShapeType used before being defined.\n",
      "WARNING - /Users/chandralegend/Desktop/Jaseci/jaclang-vscode/examples/circle_impl.jac, line 25, col 10: main_run used before being defined.\n",
      "WARNING - /Users/chandralegend/Desktop/Jaseci/jaclang-vscode/examples/guess_number.jac, line 30, col 32: process_guess used before being defined.\n",
      "WARNING - /Users/chandralegend/Desktop/Jaseci/jaclang-vscode/examples/circle.jac, line 19, col 15: Shape used before being defined.\n",
      "WARNING - /Users/chandralegend/Desktop/Jaseci/jaclang-vscode/examples/circle_impl.jac, line 14, col 15: __init__ used before being defined.\n",
      "WARNING - /Users/chandralegend/Desktop/Jaseci/jaclang-vscode/examples/circle.jac, line 29, col 23: main_run used before being defined.\n",
      "WARNING - /Users/chandralegend/Desktop/Jaseci/jaclang-vscode/examples/guess_number.jac, line 15, col 20: GuessGame used before being defined.\n",
      "WARNING - /Users/chandralegend/Desktop/Jaseci/jaclang-vscode/examples/circle_impl.jac, line 14, col 24: __init__ used before being defined.\n",
      "WARNING - /Users/chandralegend/Desktop/Jaseci/jaclang-vscode/examples/circle_impl.jac, line 9, col 1: calculate_area used before being defined.\n",
      "WARNING - /Users/chandralegend/Desktop/Jaseci/jaclang-vscode/examples/circle_impl.jac, line 9, col 10: calculate_area used before being defined.\n",
      "WARNING - /Users/chandralegend/Desktop/Jaseci/jaclang-vscode/examples/circle_impl.jac, line 27, col 37: value used before being defined.\n",
      "WARNING - /Users/chandralegend/Desktop/Jaseci/jaclang-vscode/examples/guess_number.jac, line 48, col 23: correct_number used before being defined.\n",
      "WARNING - /Users/chandralegend/Desktop/Jaseci/jaclang-vscode/examples/circle_impl.jac, line 20, col 1: Circle used before being defined.\n",
      "WARNING - /Users/chandralegend/Desktop/Jaseci/jaclang-vscode/examples/circle_impl.jac, line 20, col 9: Circle used before being defined.\n",
      "WARNING - /Users/chandralegend/Desktop/Jaseci/jaclang-vscode/examples/guess_number.jac, line 42, col 27: turn used before being defined.\n",
      "WARNING - /Users/chandralegend/Desktop/Jaseci/jaclang-vscode/examples/guess_number.jac, line 29, col 11: guess used before being defined.\n",
      "WARNING - /Users/chandralegend/Desktop/Jaseci/jaclang-vscode/examples/guess_number.jac, line 29, col 17: isdigit used before being defined.\n",
      "WARNING - /Users/chandralegend/Desktop/Jaseci/jaclang-vscode/examples/circle.jac, line 9, col 20: radius used before being defined.\n",
      "WARNING - /Users/chandralegend/Desktop/Jaseci/jaclang-vscode/examples/circle.jac, line 6, col 9: jac used before being defined.\n",
      "WARNING - /Users/chandralegend/Desktop/Jaseci/jaclang-vscode/examples/circle_impl.jac, line 20, col 15: area used before being defined.\n",
      "WARNING - /Users/chandralegend/Desktop/Jaseci/jaclang-vscode/examples/circle_impl.jac, line 20, col 24: area used before being defined.\n",
      "WARNING - /Users/chandralegend/Desktop/Jaseci/jaclang-vscode/examples/circle_impl.jac, line 27, col 57: RAD used before being defined.\n",
      "WARNING - /Users/chandralegend/Desktop/Jaseci/jaclang-vscode/examples/circle.jac, line 9, col 20: radius used before being defined.\n",
      "WARNING - /Users/chandralegend/Desktop/Jaseci/jaclang-vscode/examples/circle_impl.jac, line 21, col 12: math used before being defined.\n",
      "WARNING - /Users/chandralegend/Desktop/Jaseci/jaclang-vscode/examples/circle_impl.jac, line 26, col 80: RAD used before being defined.\n",
      "WARNING - /Users/chandralegend/Desktop/Jaseci/jaclang-vscode/examples/guess_number.jac, line 51, col 23: print used before being defined.\n",
      "WARNING - /Users/chandralegend/Desktop/Jaseci/jaclang-vscode/examples/circle.jac, line 5, col 11: math used before being defined.\n",
      "WARNING - /Users/chandralegend/Desktop/Jaseci/jaclang-vscode/examples/guess_number.jac, line 50, col 12: guess used before being defined.\n",
      "WARNING - /Users/chandralegend/Desktop/Jaseci/jaclang-vscode/examples/circle_impl.jac, line 15, col 20: ShapeType used before being defined.\n",
      "WARNING - /Users/chandralegend/Desktop/Jaseci/jaclang-vscode/examples/circle_impl.jac, line 21, col 17: pi used before being defined.\n",
      "WARNING - /Users/chandralegend/Desktop/Jaseci/jaclang-vscode/examples/guess_number.jac, line 3, col 8: py used before being defined.\n",
      "WARNING - /Users/chandralegend/Desktop/Jaseci/jaclang-vscode/examples/guess_number.jac, line 3, col 11: random used before being defined.\n",
      "WARNING - /Users/chandralegend/Desktop/Jaseci/jaclang-vscode/examples/guess_number.jac, line 8, col 43: random used before being defined.\n",
      "WARNING - /Users/chandralegend/Desktop/Jaseci/jaclang-vscode/examples/guess_number.jac, line 49, col 24: print used before being defined.\n",
      "WARNING - /Users/chandralegend/Desktop/Jaseci/jaclang-vscode/examples/circle_impl.jac, line 15, col 30: CIRCLE used before being defined.\n",
      "WARNING - /Users/chandralegend/Desktop/Jaseci/jaclang-vscode/examples/circle.jac, line 29, col 12: __main__ used before being defined.\n",
      "WARNING - /Users/chandralegend/Desktop/Jaseci/jaclang-vscode/examples/circle.jac, line 5, col 8: py used before being defined.\n",
      "WARNING - /Users/chandralegend/Desktop/Jaseci/jaclang-vscode/examples/circle_impl.jac, line 27, col 76: c used before being defined.\n",
      "WARNING - /Users/chandralegend/Desktop/Jaseci/jaclang-vscode/examples/guess_number.jac, line 8, col 50: randint used before being defined.\n",
      "WARNING - /Users/chandralegend/Desktop/Jaseci/jaclang-vscode/examples/guess_number.jac, line 32, col 52: print used before being defined.\n",
      "WARNING - /Users/chandralegend/Desktop/Jaseci/jaclang-vscode/examples/guess_number.jac, line 30, col 9: guess used before being defined.\n"
     ]
    }
   ],
   "source": [
    "from jaclang.jac.workspace import Workspace\n",
    "import os\n",
    "\n",
    "print(os.path.exists('/Users/chandralegend/Desktop/Jaseci/jaclang-vscode/examples'))\n",
    "\n",
    "jlws = Workspace(path='/Users/chandralegend/Desktop/Jaseci/jaclang-vscode/examples')"
   ]
  },
  {
   "cell_type": "code",
   "execution_count": 2,
   "metadata": {},
   "outputs": [
    {
     "name": "stdout",
     "output_type": "stream",
     "text": [
      "/Users/chandralegend/Desktop/Jaseci/jaclang-vscode/examples/circle_impl.jac <jaclang.jac.absyntree.String object at 0x1124c07d0>\n",
      "/Users/chandralegend/Desktop/Jaseci/jaclang-vscode/examples/guess_number.jac <jaclang.jac.absyntree.String object at 0x112439290>\n",
      "/Users/chandralegend/Desktop/Jaseci/jaclang-vscode/examples/circle.jac <jaclang.jac.absyntree.String object at 0x1124aab50>\n"
     ]
    }
   ],
   "source": [
    "for mod, mod_info in jlws.modules.items():\n",
    "    print(mod, mod_info.ir.doc)"
   ]
  },
  {
   "cell_type": "code",
   "execution_count": 31,
   "metadata": {},
   "outputs": [
    {
     "data": {
      "text/plain": [
       "'circle_impl'"
      ]
     },
     "execution_count": 31,
     "metadata": {},
     "output_type": "execute_result"
    }
   ],
   "source": [
    "import jaclang.jac.absyntree as ast\n",
    "\n",
    "jlws.get_dependencies('/Users/chandralegend/Desktop/Jaseci/jaclang-vscode/examples/guess_number.jac')[1].get_all_sub_nodes(ast.Module)[0]."
   ]
  },
  {
   "cell_type": "code",
   "execution_count": 4,
   "metadata": {},
   "outputs": [
    {
     "data": {
      "text/plain": [
       "'guess_number'"
      ]
     },
     "execution_count": 4,
     "metadata": {},
     "output_type": "execute_result"
    }
   ],
   "source": [
    "# get relative path betweeen two jac files\n",
    "import os\n",
    "from pathlib import Path\n",
    "\n",
    "def get_relative_path(file_path, target_path):\n",
    "    file_path = Path(file_path)\n",
    "    target_path = Path(target_path)\n",
    "    return os.path.relpath(target_path, start=file_path.parent)\n",
    "\n",
    "get_relative_path(\"/Users/chandralegend/Desktop/Jaseci/jaclang-vscode/examples/circle_impl.jac\", \"/Users/chandralegend/Desktop/Jaseci/jaclang-vscode/examples/guess_number.jac\").replace(\".jac\", \"\").replace(\"/\", \".\")"
   ]
  },
  {
   "cell_type": "code",
   "execution_count": 5,
   "metadata": {},
   "outputs": [],
   "source": [
    "import jaclang.jac.absyntree as ast\n",
    "\n",
    "for i in jlws.get_dependencies(\"/Users/chandralegend/Desktop/Jaseci/jaclang-vscode/examples/guess_number.jac\"):\n",
    "    print(i)"
   ]
  },
  {
   "cell_type": "code",
   "execution_count": 6,
   "metadata": {},
   "outputs": [],
   "source": [
    "import os\n",
    "file_url = '/Users/chandralegend/Desktop/Jaseci/jaclang-vscode/examples/guess_number.jac'\n",
    "for i in jlws.get_definitions(file_url):\n",
    "    if i.loc.mod_path != file_url:\n",
    "        continue\n",
    "    if isinstance(i, ast.Architype):\n",
    "        print(i.sym_name)\n",
    "        print()\n",
    "        children = i.get_all_sub_nodes(ast.HasVar)\n",
    "        children += i.get_all_sub_nodes(ast.Ability)\n",
    "        print(len(children))\n",
    "        for x in children:\n",
    "            print(x.sym_link)\n",
    "        print()"
   ]
  },
  {
   "cell_type": "code",
   "execution_count": 7,
   "metadata": {},
   "outputs": [
    {
     "data": {
      "text/plain": [
       "'/Users/chandralegend/Desktop/Jaseci/jaclang-vscode/bundled/tool'"
      ]
     },
     "execution_count": 7,
     "metadata": {},
     "output_type": "execute_result"
    }
   ],
   "source": [
    "os.getcwd()"
   ]
  },
  {
   "cell_type": "code",
   "execution_count": null,
   "metadata": {},
   "outputs": [],
   "source": [
    "def (x=6, a):\n"
   ]
  },
  {
   "cell_type": "code",
   "execution_count": 8,
   "metadata": {},
   "outputs": [],
   "source": [
    "for i in jlws.get_definitions(\"test.jac\"):\n",
    "    if hasattr(i, \"doc\") and isinstance(i.doc, ast.String):\n",
    "        doc_str = i.doc.value\n",
    "        doc_str = doc_str[3:-3]\n",
    "        print(doc_str)"
   ]
  },
  {
   "cell_type": "code",
   "execution_count": 9,
   "metadata": {},
   "outputs": [
    {
     "name": "stdout",
     "output_type": "stream",
     "text": [
      "/Users/chandralegend/Desktop/Jaseci/jaclang-vscode/examples/circle_impl.jac\n",
      "/Users/chandralegend/Desktop/Jaseci/jaclang-vscode/examples/guess_number.jac\n",
      "/Users/chandralegend/Desktop/Jaseci/jaclang-vscode/examples/circle.jac\n"
     ]
    }
   ],
   "source": [
    "for mod_path, mod_info in jlws.modules.items():\n",
    "    print(mod_path)"
   ]
  },
  {
   "cell_type": "code",
   "execution_count": 10,
   "metadata": {},
   "outputs": [
    {
     "data": {
      "text/plain": [
       "['/Users/chandralegend/Desktop/Jaseci/jaclang-vscode/examples/circle_impl.jac',\n",
       " '/Users/chandralegend/Desktop/Jaseci/jaclang-vscode/examples/guess_number.jac',\n",
       " '/Users/chandralegend/Desktop/Jaseci/jaclang-vscode/examples/circle.jac']"
      ]
     },
     "execution_count": 10,
     "metadata": {},
     "output_type": "execute_result"
    }
   ],
   "source": [
    "jlws.file_list()"
   ]
  },
  {
   "cell_type": "code",
   "execution_count": 11,
   "metadata": {},
   "outputs": [
    {
     "data": {
      "text/plain": [
       "[]"
      ]
     },
     "execution_count": 11,
     "metadata": {},
     "output_type": "execute_result"
    }
   ],
   "source": [
    "jlws.get_symbols('test.jac')"
   ]
  },
  {
   "cell_type": "code",
   "execution_count": 12,
   "metadata": {},
   "outputs": [
    {
     "ename": "IndexError",
     "evalue": "list index out of range",
     "output_type": "error",
     "traceback": [
      "\u001b[0;31m---------------------------------------------------------------------------\u001b[0m",
      "\u001b[0;31mIndexError\u001b[0m                                Traceback (most recent call last)",
      "\u001b[1;32m/Users/chandralegend/Desktop/Jaseci/jaclang-vscode/bundled/tool/test.ipynb Cell 24\u001b[0m line \u001b[0;36m1\n\u001b[0;32m----> <a href='vscode-notebook-cell:/Users/chandralegend/Desktop/Jaseci/jaclang-vscode/bundled/tool/test.ipynb#X32sZmlsZQ%3D%3D?line=0'>1</a>\u001b[0m jlws\u001b[39m.\u001b[39;49mget_symbols(\u001b[39m'\u001b[39;49m\u001b[39mtest.jac\u001b[39;49m\u001b[39m'\u001b[39;49m)[\u001b[39m1\u001b[39;49m]\n",
      "\u001b[0;31mIndexError\u001b[0m: list index out of range"
     ]
    }
   ],
   "source": [
    "jlws.get_symbols('test.jac')[1]"
   ]
  },
  {
   "cell_type": "code",
   "execution_count": 19,
   "metadata": {},
   "outputs": [
    {
     "name": "stdout",
     "output_type": "stream",
     "text": [
      "random\n",
      "module\n",
      "3:11 - 3:17\n",
      "circle_impl\n",
      "module\n",
      "4:13 - 4:24\n",
      "GuessGame\n",
      "type\n",
      "6:8 - 6:17\n",
      "turn\n",
      "type\n",
      "13:6 - 13:10\n",
      "(n)turn.(a)check\n",
      "impl\n",
      "22:1 - 22:25\n",
      "(w)GuessGame.(a)start_game\n",
      "impl\n",
      "34:1 - 34:37\n",
      "(w)GuessGame.(a)process_guess\n",
      "impl\n",
      "44:1 - 44:40\n",
      "start_game\n",
      "ability\n",
      "9:9 - 9:19\n",
      "process_guess\n",
      "ability\n",
      "10:9 - 10:22\n",
      "correct_number\n",
      "var\n",
      "7:9 - 7:23\n",
      "guess\n",
      "var\n",
      "10:23 - 10:28\n",
      "check\n",
      "ability\n",
      "14:9 - 14:14\n",
      "guess\n",
      "var\n",
      "10:23 - 10:28\n"
     ]
    }
   ],
   "source": [
    "for symbol in jlws.get_symbols('test.jac'):\n",
    "    print(symbol.sym_name)\n",
    "    print(symbol.sym_type)\n",
    "    print(symbol.decl.sym_name_node.loc)"
   ]
  },
  {
   "cell_type": "code",
   "execution_count": 20,
   "metadata": {},
   "outputs": [],
   "source": [
    "class Apple:\n",
    "    name: str\n",
    "\n",
    "x = Apple()"
   ]
  },
  {
   "cell_type": "code",
   "execution_count": 21,
   "metadata": {},
   "outputs": [],
   "source": [
    "x.address = \"123\""
   ]
  },
  {
   "cell_type": "code",
   "execution_count": 23,
   "metadata": {},
   "outputs": [
    {
     "data": {
      "text/plain": [
       "'123'"
      ]
     },
     "execution_count": 23,
     "metadata": {},
     "output_type": "execute_result"
    }
   ],
   "source": [
    "x.address"
   ]
  },
  {
   "cell_type": "code",
   "execution_count": 24,
   "metadata": {},
   "outputs": [],
   "source": [
    "y = {}\n",
    "y[x] = 1"
   ]
  },
  {
   "cell_type": "code",
   "execution_count": 26,
   "metadata": {},
   "outputs": [
    {
     "data": {
      "text/plain": [
       "dict_keys([<__main__.Apple object at 0x11627fe90>])"
      ]
     },
     "execution_count": 26,
     "metadata": {},
     "output_type": "execute_result"
    }
   ],
   "source": [
    "y.keys()"
   ]
  },
  {
   "cell_type": "code",
   "execution_count": 42,
   "metadata": {},
   "outputs": [],
   "source": [
    "import time\n",
    "async def wait_for():\n",
    "    # wait 20 seconds and print \"hello\" without async io\n",
    "    time.sleep(20)\n",
    "    print(\"hello\")\n",
    "\n",
    "def main():\n",
    "    wait_for()\n",
    "    print(\"world\")"
   ]
  },
  {
   "cell_type": "code",
   "execution_count": 43,
   "metadata": {},
   "outputs": [
    {
     "name": "stdout",
     "output_type": "stream",
     "text": [
      "world\n"
     ]
    },
    {
     "name": "stderr",
     "output_type": "stream",
     "text": [
      "/var/folders/b2/5v_f5db55cl2944tg8wh54w80000gn/T/ipykernel_54762/1230333363.py:8: RuntimeWarning: coroutine 'wait_for' was never awaited\n",
      "  wait_for()\n",
      "RuntimeWarning: Enable tracemalloc to get the object allocation traceback\n"
     ]
    },
    {
     "ename": "TypeError",
     "evalue": "object NoneType can't be used in 'await' expression",
     "output_type": "error",
     "traceback": [
      "\u001b[0;31m---------------------------------------------------------------------------\u001b[0m",
      "\u001b[0;31mTypeError\u001b[0m                                 Traceback (most recent call last)",
      "\u001b[1;32m/Users/chandralegend/Desktop/Jaseci/jaclang-vscode/bundled/tool/test.ipynb Cell 31\u001b[0m line \u001b[0;36m1\n\u001b[0;32m----> <a href='vscode-notebook-cell:/Users/chandralegend/Desktop/Jaseci/jaclang-vscode/bundled/tool/test.ipynb#X42sZmlsZQ%3D%3D?line=0'>1</a>\u001b[0m \u001b[39mawait\u001b[39;00m main()\n",
      "\u001b[0;31mTypeError\u001b[0m: object NoneType can't be used in 'await' expression"
     ]
    }
   ],
   "source": [
    "await main()"
   ]
  },
  {
   "cell_type": "code",
   "execution_count": 51,
   "metadata": {},
   "outputs": [
    {
     "data": {
      "text/plain": [
       "'walker'"
      ]
     },
     "execution_count": 51,
     "metadata": {},
     "output_type": "execute_result"
    }
   ],
   "source": [
    "\":walker:GuessGame:\".replace(\":\", \" \").split()[-2]"
   ]
  },
  {
   "cell_type": "code",
   "execution_count": 63,
   "metadata": {},
   "outputs": [
    {
     "name": "stdout",
     "output_type": "stream",
     "text": [
      "ARCHITYPE: Apple\n"
     ]
    }
   ],
   "source": [
    "import re\n",
    "\n",
    "string = \"Apple.\"\n",
    "pattern = r\"(\\w+).\"\n",
    "\n",
    "match = re.match(pattern, string)\n",
    "if match:\n",
    "    architype = match.group(1)\n",
    "\n",
    "    print(f\"ARCHITYPE: {architype}\")\n",
    "else:\n",
    "    print(\"Invalid string format\")"
   ]
  },
  {
   "cell_type": "code",
   "execution_count": null,
   "metadata": {},
   "outputs": [],
   "source": []
  }
 ],
 "metadata": {
  "kernelspec": {
   "display_name": "vscode-jaclang",
   "language": "python",
   "name": "python3"
  },
  "language_info": {
   "codemirror_mode": {
    "name": "ipython",
    "version": 3
   },
   "file_extension": ".py",
   "mimetype": "text/x-python",
   "name": "python",
   "nbconvert_exporter": "python",
   "pygments_lexer": "ipython3",
   "version": "3.11.5"
  }
 },
 "nbformat": 4,
 "nbformat_minor": 2
}
