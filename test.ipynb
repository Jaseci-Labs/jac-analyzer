{
 "cells": [
  {
   "cell_type": "code",
   "execution_count": 1,
   "metadata": {},
   "outputs": [],
   "source": [
    "import sys\n",
    "import os\n",
    "\n",
    "sys.path.append(os.path.abspath('bundled/tool'))\n",
    "\n",
    "import unittest\n",
    "from unittest.mock import MagicMock\n",
    "import lsprotocol.types as lsp\n",
    "\n",
    "from common.completion import get_completion_items\n",
    "from common.symbols import get_doc_symbols, fill_workspace\n",
    "from jaclang.jac.workspace import Workspace"
   ]
  },
  {
   "cell_type": "code",
   "execution_count": 5,
   "metadata": {},
   "outputs": [],
   "source": [
    "from unittest.mock import MagicMock\n",
    "from jaclang.jac.workspace import Workspace\n",
    "\n",
    "class MockLanguageServer:\n",
    "    def __init__(self, root_path, *args, **kwargs):\n",
    "        super().__init__(*args, **kwargs)\n",
    "        self.workspace = MockWorkspace(root_path)\n",
    "        self.dep_table = {}\n",
    "\n",
    "class MockWorkspace:\n",
    "    def __init__(self, root_path):\n",
    "        self.documents = {}\n",
    "        self.root_path = root_path\n",
    "\n",
    "    def put_document(self, doc):\n",
    "        self.documents[doc.uri] = MockDocument(doc)\n",
    "\n",
    "    def get_text_document(self, uri):\n",
    "        return self.documents[uri]\n",
    "\n",
    "    def get_document(self, uri):\n",
    "        return self.get_text_document(uri)\n",
    "    \n",
    "class MockDocument:\n",
    "    def __init__(self, doc):\n",
    "        self.text = doc.text\n",
    "        self.uri = doc.uri\n",
    "        self.version = doc.version\n",
    "        self.language_id = doc.language_id"
   ]
  },
  {
   "cell_type": "code",
   "execution_count": 6,
   "metadata": {},
   "outputs": [],
   "source": [
    "ls = MockLanguageServer('bundled/tool/tests/fixtures/completion')"
   ]
  },
  {
   "cell_type": "code",
   "execution_count": 7,
   "metadata": {},
   "outputs": [],
   "source": [
    "fill_workspace(ls)"
   ]
  },
  {
   "cell_type": "code",
   "execution_count": 20,
   "metadata": {},
   "outputs": [
    {
     "data": {
      "text/plain": [
       "Symbol(GuessGame, walker, public, None, [<jaclang.jac.absyntree.Architype object at 0x1126d4f50>])"
      ]
     },
     "execution_count": 20,
     "metadata": {},
     "output_type": "execute_result"
    }
   ],
   "source": [
    "ls.workspace.get_text_document('file://bundled/tool/tests/fixtures/completion/completions.jac').symbols[0].ws_symbol"
   ]
  },
  {
   "cell_type": "code",
   "execution_count": 2,
   "metadata": {},
   "outputs": [
    {
     "data": {
      "text/plain": [
       "31"
      ]
     },
     "execution_count": 2,
     "metadata": {},
     "output_type": "execute_result"
    }
   ],
   "source": [
    "len(':walker:GuessGame:ability:start')"
   ]
  },
  {
   "cell_type": "code",
   "execution_count": 13,
   "metadata": {},
   "outputs": [],
   "source": [
    "ls.jlws = Workspace(ls.workspace.root_path)"
   ]
  },
  {
   "cell_type": "code",
   "execution_count": 9,
   "metadata": {},
   "outputs": [
    {
     "name": "stdout",
     "output_type": "stream",
     "text": [
      "bundled/tool/tests/fixtures/completion/completions.jac\n",
      "completions <jaclang.jac.symtable.SymbolTable object at 0x11355e2d0>:\n",
      "    GuessGame: Symbol(GuessGame, walker, public, None, [<jaclang.jac.absyntree.Architype object at 0x113656cd0>])\n",
      "    turn: Symbol(turn, node, public, None, [<jaclang.jac.absyntree.Architype object at 0x113668110>])\n",
      "    (n)turn.(a)check: Symbol((n)turn.(a)check, impl, public, None, [<jaclang.jac.absyntree.AbilityDef object at 0x113669f10>])\n",
      "    (w)GuessGame.(a)start_game: Symbol((w)GuessGame.(a)start_game, impl, public, None, [<jaclang.jac.absyntree.AbilityDef object at 0x1136700d0>])\n",
      "    (w)GuessGame.(a)process_guess: Symbol((w)GuessGame.(a)process_guess, impl, public, None, [<jaclang.jac.absyntree.AbilityDef object at 0x113675ed0>])\n",
      "\n"
     ]
    }
   ],
   "source": [
    "from lsprotocol.types import TextDocumentItem\n",
    "\n",
    "for mod_path, mod_info in ls.jlws.modules.items():\n",
    "    print(mod_path)\n",
    "    print(mod_info.ir.sym_tab)\n",
    "    doc = TextDocumentItem(\n",
    "        uri=f\"file://{mod_path}\",\n",
    "        language_id=\"jac\",\n",
    "        version=0,\n",
    "        text=mod_info.ir.source.code,\n",
    "    )\n",
    "    ls.workspace.put_document(doc)\n",
    "    doc = ls.workspace.get_text_document(doc.uri)\n",
    "    doc.symbols = get_doc_symbols(ls, doc.uri)\n",
    "\n",
    "for doc in ls.workspace.docs.values():\n",
    "    doc_url = doc.uri.replace(\"file://\", \"\")\n",
    "    doc.dependencies = {}\n",
    "    jlws_imports = ls.jlws.get_dependencies(doc_url)"
   ]
  },
  {
   "cell_type": "code",
   "execution_count": 59,
   "metadata": {},
   "outputs": [
    {
     "data": {
      "text/plain": [
       "[<common.symbols.Symbol at 0x10f788550>,\n",
       " <common.symbols.Symbol at 0x10f843bd0>,\n",
       " <common.symbols.Symbol at 0x10f840590>,\n",
       " <common.symbols.Symbol at 0x10f8418d0>,\n",
       " <common.symbols.Symbol at 0x10f843b50>]"
      ]
     },
     "execution_count": 59,
     "metadata": {},
     "output_type": "execute_result"
    }
   ],
   "source": [
    "doc = ls.workspace.get_text_document('file://examples/circle_impl.jac')\n",
    "doc.symbols"
   ]
  },
  {
   "cell_type": "code",
   "execution_count": 15,
   "metadata": {},
   "outputs": [],
   "source": [
    "ls_mock = MagicMock()\n",
    "ls_mock.workspace = MockWorkspace()\n",
    "ls_mock.jlws = Workspace(path=\"bundled/tool/tests/fixtures/completion/\")"
   ]
  },
  {
   "cell_type": "code",
   "execution_count": 16,
   "metadata": {},
   "outputs": [],
   "source": [
    "params = lsp.CompletionParams(\n",
    "    text_document=lsp.TextDocumentIdentifier(\n",
    "        uri=\"file://bundled/tool/tests/fixtures/completion/completions.jac\"\n",
    "    ),\n",
    "    position=lsp.Position(line=15, character=0),\n",
    ")"
   ]
  },
  {
   "cell_type": "code",
   "execution_count": 44,
   "metadata": {},
   "outputs": [
    {
     "ename": "AttributeError",
     "evalue": "'MockWorkspace' object has no attribute 'root_path'",
     "output_type": "error",
     "traceback": [
      "\u001b[0;31m---------------------------------------------------------------------------\u001b[0m",
      "\u001b[0;31mAttributeError\u001b[0m                            Traceback (most recent call last)",
      "\u001b[1;32m/Users/chandralegend/Desktop/Jaseci/jaclang-vscode/test.ipynb Cell 5\u001b[0m line \u001b[0;36m1\n\u001b[0;32m----> <a href='vscode-notebook-cell:/Users/chandralegend/Desktop/Jaseci/jaclang-vscode/test.ipynb#Y125sZmlsZQ%3D%3D?line=0'>1</a>\u001b[0m fill_workspace(ls_mock)\n",
      "File \u001b[0;32m~/Desktop/Jaseci/jaclang-vscode/bundled/tool/common/symbols.py:36\u001b[0m, in \u001b[0;36mfill_workspace\u001b[0;34m(ls)\u001b[0m\n\u001b[1;32m     35\u001b[0m \u001b[39mdef\u001b[39;00m \u001b[39mfill_workspace\u001b[39m(ls: LanguageServer) \u001b[39m-\u001b[39m\u001b[39m>\u001b[39m \u001b[39mNone\u001b[39;00m:\n\u001b[0;32m---> 36\u001b[0m     ls\u001b[39m.\u001b[39mjlws \u001b[39m=\u001b[39m Workspace(path\u001b[39m=\u001b[39mls\u001b[39m.\u001b[39;49mworkspace\u001b[39m.\u001b[39;49mroot_path)\n\u001b[1;32m     37\u001b[0m     \u001b[39mfor\u001b[39;00m mod_path, mod_info \u001b[39min\u001b[39;00m ls\u001b[39m.\u001b[39mjlws\u001b[39m.\u001b[39mmodules\u001b[39m.\u001b[39mitems():\n\u001b[1;32m     38\u001b[0m         doc \u001b[39m=\u001b[39m TextDocumentItem(\n\u001b[1;32m     39\u001b[0m             uri\u001b[39m=\u001b[39m\u001b[39mf\u001b[39m\u001b[39m\"\u001b[39m\u001b[39mfile://\u001b[39m\u001b[39m{\u001b[39;00mmod_path\u001b[39m}\u001b[39;00m\u001b[39m\"\u001b[39m,\n\u001b[1;32m     40\u001b[0m             language_id\u001b[39m=\u001b[39m\u001b[39m\"\u001b[39m\u001b[39mjac\u001b[39m\u001b[39m\"\u001b[39m,\n\u001b[1;32m     41\u001b[0m             version\u001b[39m=\u001b[39m\u001b[39m0\u001b[39m,\n\u001b[1;32m     42\u001b[0m             text\u001b[39m=\u001b[39mmod_info\u001b[39m.\u001b[39mir\u001b[39m.\u001b[39msource\u001b[39m.\u001b[39mcode,\n\u001b[1;32m     43\u001b[0m         )\n",
      "\u001b[0;31mAttributeError\u001b[0m: 'MockWorkspace' object has no attribute 'root_path'"
     ]
    }
   ],
   "source": []
  },
  {
   "cell_type": "code",
   "execution_count": 18,
   "metadata": {},
   "outputs": [],
   "source": [
    "doc = ls_mock.workspace.get_text_document(params.text_document.uri)"
   ]
  },
  {
   "cell_type": "code",
   "execution_count": 20,
   "metadata": {},
   "outputs": [],
   "source": [
    "doc.symbols = get_doc_symbols(ls_mock, doc.uri)"
   ]
  },
  {
   "cell_type": "code",
   "execution_count": 41,
   "metadata": {},
   "outputs": [
    {
     "data": {
      "text/plain": [
       "[<common.symbols.Symbol at 0x10f51d310>,\n",
       " <common.symbols.Symbol at 0x10f58fe90>,\n",
       " <common.symbols.Symbol at 0x10f51cb10>,\n",
       " <common.symbols.Symbol at 0x10f51db10>,\n",
       " <common.symbols.Symbol at 0x10f51fb50>]"
      ]
     },
     "execution_count": 41,
     "metadata": {},
     "output_type": "execute_result"
    }
   ],
   "source": [
    "doc.symbols"
   ]
  },
  {
   "cell_type": "code",
   "execution_count": 42,
   "metadata": {},
   "outputs": [
    {
     "ename": "AttributeError",
     "evalue": "'NoneType' object has no attribute 'decl'",
     "output_type": "error",
     "traceback": [
      "\u001b[0;31m---------------------------------------------------------------------------\u001b[0m",
      "\u001b[0;31mAttributeError\u001b[0m                            Traceback (most recent call last)",
      "\u001b[1;32m/Users/chandralegend/Desktop/Jaseci/jaclang-vscode/test.ipynb Cell 8\u001b[0m line \u001b[0;36m1\n\u001b[0;32m----> <a href='vscode-notebook-cell:/Users/chandralegend/Desktop/Jaseci/jaclang-vscode/test.ipynb#Y114sZmlsZQ%3D%3D?line=0'>1</a>\u001b[0m get_completion_items(ls_mock, params)\n",
      "File \u001b[0;32m~/Desktop/Jaseci/jaclang-vscode/bundled/tool/common/completion.py:69\u001b[0m, in \u001b[0;36mget_completion_items\u001b[0;34m(ls, params)\u001b[0m\n\u001b[1;32m     66\u001b[0m before_cursor \u001b[39m=\u001b[39m line[: params\u001b[39m.\u001b[39mposition\u001b[39m.\u001b[39mcharacter]\n\u001b[1;32m     67\u001b[0m last_word \u001b[39m=\u001b[39m before_cursor\u001b[39m.\u001b[39msplit()[\u001b[39m-\u001b[39m\u001b[39m1\u001b[39m] \u001b[39mif\u001b[39;00m \u001b[39mlen\u001b[39m(before_cursor\u001b[39m.\u001b[39msplit()) \u001b[39melse\u001b[39;00m \u001b[39m\"\u001b[39m\u001b[39m\"\u001b[39m\n\u001b[0;32m---> 69\u001b[0m scope_node \u001b[39m=\u001b[39m get_scope_at_pos(ls, doc, params\u001b[39m.\u001b[39;49mposition, get_all_symbols(ls, doc, \u001b[39mFalse\u001b[39;49;00m, \u001b[39mTrue\u001b[39;49;00m))\n\u001b[1;32m     71\u001b[0m completion_items \u001b[39m=\u001b[39m []\n\u001b[1;32m     73\u001b[0m \u001b[39m\u001b[39m\u001b[39m\"\"\"\u001b[39;00m\n\u001b[1;32m     74\u001b[0m \u001b[39meg- {node}. {walker}. {object}.\u001b[39;00m\n\u001b[1;32m     75\u001b[0m \u001b[39m\"\"\"\u001b[39;00m\n",
      "File \u001b[0;32m~/Desktop/Jaseci/jaclang-vscode/bundled/tool/common/utils.py:164\u001b[0m, in \u001b[0;36mget_scope_at_pos\u001b[0;34m(ls, doc, pos, symbols)\u001b[0m\n\u001b[1;32m    161\u001b[0m \u001b[39mif\u001b[39;00m sym\u001b[39m.\u001b[39mdoc_uri \u001b[39m!=\u001b[39m doc\u001b[39m.\u001b[39muri:\n\u001b[1;32m    162\u001b[0m     \u001b[39mcontinue\u001b[39;00m\n\u001b[1;32m    163\u001b[0m \u001b[39mif\u001b[39;00m (\n\u001b[0;32m--> 164\u001b[0m     sym\u001b[39m.\u001b[39;49mdoc_sym\u001b[39m.\u001b[39mrange\u001b[39m.\u001b[39mstart\u001b[39m.\u001b[39mline \u001b[39m<\u001b[39m\u001b[39m=\u001b[39m pos\u001b[39m.\u001b[39mline\n\u001b[1;32m    165\u001b[0m     \u001b[39mand\u001b[39;00m sym\u001b[39m.\u001b[39mdoc_sym\u001b[39m.\u001b[39mrange\u001b[39m.\u001b[39mend\u001b[39m.\u001b[39mline \u001b[39m>\u001b[39m\u001b[39m=\u001b[39m pos\u001b[39m.\u001b[39mline\n\u001b[1;32m    166\u001b[0m ):\n\u001b[1;32m    167\u001b[0m     kid \u001b[39m=\u001b[39m get_scope_at_pos(ls, doc, pos, sym\u001b[39m.\u001b[39mchildren)\n\u001b[1;32m    168\u001b[0m     \u001b[39mif\u001b[39;00m kid:\n",
      "File \u001b[0;32m~/Desktop/Jaseci/jaclang-vscode/bundled/tool/common/symbols.py:177\u001b[0m, in \u001b[0;36mSymbol.doc_sym\u001b[0;34m(self)\u001b[0m\n\u001b[1;32m    161\u001b[0m \u001b[39m@property\u001b[39m\n\u001b[1;32m    162\u001b[0m \u001b[39mdef\u001b[39;00m \u001b[39mdoc_sym\u001b[39m(\u001b[39mself\u001b[39m):\n\u001b[1;32m    163\u001b[0m     \u001b[39mreturn\u001b[39;00m DocumentSymbol(\n\u001b[1;32m    164\u001b[0m         name\u001b[39m=\u001b[39m\u001b[39mself\u001b[39m\u001b[39m.\u001b[39msym_name,\n\u001b[1;32m    165\u001b[0m         kind\u001b[39m=\u001b[39m\u001b[39mself\u001b[39m\u001b[39m.\u001b[39msym_info\u001b[39m.\u001b[39mkind,\n\u001b[1;32m    166\u001b[0m         \u001b[39mrange\u001b[39m\u001b[39m=\u001b[39mRange(\n\u001b[1;32m    167\u001b[0m             start\u001b[39m=\u001b[39mPosition(\n\u001b[1;32m    168\u001b[0m                 line\u001b[39m=\u001b[39m\u001b[39mself\u001b[39m\u001b[39m.\u001b[39mnode\u001b[39m.\u001b[39mloc\u001b[39m.\u001b[39mfirst_line \u001b[39m-\u001b[39m \u001b[39m1\u001b[39m,\n\u001b[1;32m    169\u001b[0m                 character\u001b[39m=\u001b[39m\u001b[39mself\u001b[39m\u001b[39m.\u001b[39mnode\u001b[39m.\u001b[39mloc\u001b[39m.\u001b[39mcol_start \u001b[39m-\u001b[39m \u001b[39m1\u001b[39m,\n\u001b[1;32m    170\u001b[0m             ),\n\u001b[1;32m    171\u001b[0m             end\u001b[39m=\u001b[39mPosition(\n\u001b[1;32m    172\u001b[0m                 line\u001b[39m=\u001b[39m\u001b[39mself\u001b[39m\u001b[39m.\u001b[39mnode\u001b[39m.\u001b[39mloc\u001b[39m.\u001b[39mlast_line \u001b[39m-\u001b[39m \u001b[39m1\u001b[39m,\n\u001b[1;32m    173\u001b[0m                 character\u001b[39m=\u001b[39m\u001b[39mself\u001b[39m\u001b[39m.\u001b[39mnode\u001b[39m.\u001b[39mloc\u001b[39m.\u001b[39mcol_end \u001b[39m-\u001b[39m \u001b[39m1\u001b[39m,\n\u001b[1;32m    174\u001b[0m             ),\n\u001b[1;32m    175\u001b[0m         ),\n\u001b[1;32m    176\u001b[0m         selection_range\u001b[39m=\u001b[39m\u001b[39mself\u001b[39m\u001b[39m.\u001b[39msym_info\u001b[39m.\u001b[39mlocation\u001b[39m.\u001b[39mrange,\n\u001b[0;32m--> 177\u001b[0m         detail\u001b[39m=\u001b[39m\u001b[39mself\u001b[39;49m\u001b[39m.\u001b[39;49msym_doc,\n\u001b[1;32m    178\u001b[0m         children\u001b[39m=\u001b[39m\u001b[39mself\u001b[39m\u001b[39m.\u001b[39m_get_children_doc_sym(),\n\u001b[1;32m    179\u001b[0m     )\n",
      "File \u001b[0;32m~/Desktop/Jaseci/jaclang-vscode/bundled/tool/common/symbols.py:120\u001b[0m, in \u001b[0;36mSymbol.sym_doc\u001b[0;34m(self)\u001b[0m\n\u001b[1;32m    116\u001b[0m \u001b[39m@property\u001b[39m\n\u001b[1;32m    117\u001b[0m \u001b[39mdef\u001b[39;00m \u001b[39msym_doc\u001b[39m(\u001b[39mself\u001b[39m):\n\u001b[1;32m    118\u001b[0m     \u001b[39mreturn\u001b[39;00m (\n\u001b[1;32m    119\u001b[0m         \u001b[39mself\u001b[39m\u001b[39m.\u001b[39mws_symbol\u001b[39m.\u001b[39mdecl\u001b[39m.\u001b[39mdoc\u001b[39m.\u001b[39mvalue[\u001b[39m3\u001b[39m:\u001b[39m-\u001b[39m\u001b[39m3\u001b[39m]\n\u001b[0;32m--> 120\u001b[0m         \u001b[39mif\u001b[39;00m \u001b[39mhasattr\u001b[39m(\u001b[39mself\u001b[39;49m\u001b[39m.\u001b[39;49mws_symbol\u001b[39m.\u001b[39;49mdecl, \u001b[39m\"\u001b[39m\u001b[39mdoc\u001b[39m\u001b[39m\"\u001b[39m)\n\u001b[1;32m    121\u001b[0m         \u001b[39mand\u001b[39;00m \u001b[39misinstance\u001b[39m(\u001b[39mself\u001b[39m\u001b[39m.\u001b[39mws_symbol\u001b[39m.\u001b[39mdecl\u001b[39m.\u001b[39mdoc, String)\n\u001b[1;32m    122\u001b[0m         \u001b[39melse\u001b[39;00m \u001b[39m\"\u001b[39m\u001b[39m\"\u001b[39m\n\u001b[1;32m    123\u001b[0m     )\n",
      "\u001b[0;31mAttributeError\u001b[0m: 'NoneType' object has no attribute 'decl'"
     ]
    }
   ],
   "source": [
    "get_completion_items(ls_mock, params)"
   ]
  },
  {
   "cell_type": "code",
   "execution_count": null,
   "metadata": {},
   "outputs": [],
   "source": []
  }
 ],
 "metadata": {
  "kernelspec": {
   "display_name": "vscode-jaclang",
   "language": "python",
   "name": "python3"
  },
  "language_info": {
   "codemirror_mode": {
    "name": "ipython",
    "version": 3
   },
   "file_extension": ".py",
   "mimetype": "text/x-python",
   "name": "python",
   "nbconvert_exporter": "python",
   "pygments_lexer": "ipython3",
   "version": "3.11.5"
  }
 },
 "nbformat": 4,
 "nbformat_minor": 2
}
