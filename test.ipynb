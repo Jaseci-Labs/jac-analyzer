{
 "cells": [
  {
   "cell_type": "code",
   "execution_count": 1,
   "metadata": {},
   "outputs": [],
   "source": [
    "from jaclang.jac.lexer import JacLexer\n",
    "from jaclang.jac.parser import JacParser\n",
    "from jaclang.jac.transform import TransformError"
   ]
  },
  {
   "cell_type": "code",
   "execution_count": 2,
   "metadata": {},
   "outputs": [],
   "source": [
    "source = \"/home/ubuntu/chandra/jaseci_labs/vscode-jaseci/server/tests/unit/test.jac\""
   ]
  },
  {
   "cell_type": "code",
   "execution_count": 13,
   "metadata": {},
   "outputs": [
    {
     "name": "stderr",
     "output_type": "stream",
     "text": [
      "ERROR - Mod test.jac: Line 13, JParse Error, incorrect usage of \"activities\" (NAME)\n",
      "\n"
     ]
    },
    {
     "name": "stdout",
     "output_type": "stream",
     "text": [
      "['Mod test.jac: Line 13, JParse Error, incorrect usage of \"activities\" (NAME)\\n']\n"
     ]
    }
   ],
   "source": [
    "import re\n",
    "\n",
    "diagnostics = []\n",
    "try:\n",
    "    with open(source, \"r\") as f:\n",
    "        source_str = f.read()\n",
    "    lex = JacLexer(mod_path=source, input_ir=source_str).ir\n",
    "    prse = JacParser(mod_path=source, input_ir=lex)\n",
    "except TransformError as e:\n",
    "    if e.errors_had:\n",
    "        for err in e.errors_had:\n",
    "            line = int(re.findall(r\"Line (\\d+)\", err)[0].replace(\"Line \", \"\"))\n",
    "            msg = err.split(\",\")[1].strip()\n",
    "            diagnostics.append({\n",
    "                \"range\": {\n",
    "                    \"start\": {\n",
    "                        \"line\": line - 1,\n",
    "                        \"character\": 0\n",
    "                    },\n",
    "                    \"end\": {\n",
    "                        \"line\": line - 1,\n",
    "                        \"character\": 0\n",
    "                    }\n",
    "                },\n",
    "                \"message\": msg,\n",
    "                \"severity\": 'error'\n",
    "            })\n",
    "    if e.warnings_had:\n",
    "        for err in e.warnings_had:\n",
    "            line = int(re.findall(r\"Line (\\d+)\", err)[0].replace(\"Line \", \"\"))\n",
    "            msg = err.split(\",\")[1].strip()\n",
    "            diagnostics.append({\n",
    "                \"range\": {\n",
    "                    \"start\": {\n",
    "                        \"line\": line - 1,\n",
    "                        \"character\": 0\n",
    "                    },\n",
    "                    \"end\": {\n",
    "                        \"line\": line - 1,\n",
    "                        \"character\": 0\n",
    "                    }\n",
    "                },\n",
    "                \"message\": msg,\n",
    "                \"severity\": 'warning'\n",
    "            })"
   ]
  },
  {
   "cell_type": "code",
   "execution_count": 14,
   "metadata": {},
   "outputs": [
    {
     "data": {
      "text/plain": [
       "[{'range': {'start': {'line': 12, 'character': 0},\n",
       "   'end': {'line': 12, 'character': 0}},\n",
       "  'message': 'JParse Error',\n",
       "  'severity': 'error'}]"
      ]
     },
     "execution_count": 14,
     "metadata": {},
     "output_type": "execute_result"
    }
   ],
   "source": [
    "diagnostics"
   ]
  },
  {
   "cell_type": "code",
   "execution_count": null,
   "metadata": {},
   "outputs": [],
   "source": []
  }
 ],
 "metadata": {
  "kernelspec": {
   "display_name": "vscode-jaseci",
   "language": "python",
   "name": "python3"
  },
  "language_info": {
   "codemirror_mode": {
    "name": "ipython",
    "version": 3
   },
   "file_extension": ".py",
   "mimetype": "text/x-python",
   "name": "python",
   "nbconvert_exporter": "python",
   "pygments_lexer": "ipython3",
   "version": "3.10.12"
  },
  "orig_nbformat": 4
 },
 "nbformat": 4,
 "nbformat_minor": 2
}
